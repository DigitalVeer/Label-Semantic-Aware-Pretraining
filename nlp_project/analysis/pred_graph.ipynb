{
 "cells": [
  {
   "cell_type": "code",
   "execution_count": 3,
   "metadata": {},
   "outputs": [],
   "source": [
    "from sklearn.metrics import confusion_matrix, precision_recall_fscore_support\n",
    "from collections import defaultdict\n",
    "import os\n",
    "import json\n",
    "import sys\n",
    "import pandas as pd \n",
    "import seaborn as sns\n",
    "import matplotlib.pyplot as plt\n",
    "import matplotlib.ticker as ticker\n",
    "import numpy as np\n",
    "\n",
    "def load_intents_json(intents_file):\n",
    "    intents = []\n",
    "    with open(intents_file, 'r') as examples:\n",
    "        for example in examples:\n",
    "            data = json.loads(example)\n",
    "            intent = data[\"translation\"][\"tgt\"]\n",
    "            intents.append(intent)\n",
    "    return intents\n",
    "\n",
    "def load_intents_list(intents_file):\n",
    "    intents = []\n",
    "    with open(intents_file, 'r') as intent_preds:\n",
    "        for intent in intent_preds:\n",
    "            intents.append(intent.strip())\n",
    "    return intents\n",
    "\n",
    "confmat_name = \"atis\"\n",
    "\n",
    "true_intents = load_intents_json(\"ATIS.json\")\n",
    "pred_intents = load_intents_list(\"ATIS_pred.txt\")"
   ]
  },
  {
   "cell_type": "code",
   "execution_count": 6,
   "metadata": {},
   "outputs": [
    {
     "name": "stdout",
     "output_type": "stream",
     "text": [
      "{'Ground Fare.', 'Meal.', 'Flight No.', 'Flight.', 'Restriction.', 'Cheapest.', 'Aircraft+flight+flight No.', 'Day Name.', 'ε', 'Ground Service+ground Fare.', 'Flight+airfare.', 'Airline+flight No.', 'Flight+airline.', 'Airline.', 'City.', 'Quantity.', 'Ground Service.', 'Capacity.', 'Flight Time.', 'Aircraft.', 'Airfare+flight Time.', 'Airfare.', 'Distance.', 'Airfare+flight.', 'Airport.', 'Flight No+airline.', 'Abbreviation.'} {'Ground Fare.', 'Meal.', 'Flight No.', 'Flight.', 'Restriction.', 'Cheapest.', 'Aircraft+flight+flight No.', 'Day Name.', 'ε', 'Ground Service+ground Fare.', 'Flight+airfare.', 'Airline+flight No.', 'Flight+airline.', 'Airline.', 'City.', 'Quantity.', 'Ground Service.', 'Capacity.', 'Flight Time.', 'Aircraft.', 'Airfare+flight Time.', 'Airfare.', 'Distance.', 'Airfare+flight.', 'Airport.', 'Flight No+airline.', 'Abbreviation.'}\n",
      "Precisions:  [1. 1. 1. 1. 1. 1. 1. 1. 1. 1. 1. 1. 1. 1. 1. 1. 1. 1. 1. 1. 1. 1. 1. 1.\n",
      " 1. 1. 1.]\n",
      "Recalls:  [1. 1. 1. 1. 1. 1. 1. 1. 1. 1. 1. 1. 1. 1. 1. 1. 1. 1. 1. 1. 1. 1. 1. 1.\n",
      " 1. 1. 1.]\n",
      "F1 scores:  [1. 1. 1. 1. 1. 1. 1. 1. 1. 1. 1. 1. 1. 1. 1. 1. 1. 1. 1. 1. 1. 1. 1. 1.\n",
      " 1. 1. 1.]\n",
      "<function confusion_matrix at 0x000002CBFC231360>\n"
     ]
    },
    {
     "data": {
      "text/plain": [
       "<Figure size 640x480 with 0 Axes>"
      ]
     },
     "metadata": {},
     "output_type": "display_data"
    }
   ],
   "source": [
    "# replace all bad generated intents with BAD GENERATION\n",
    "intent_set = set(true_intents)\n",
    "for idx, pred in enumerate(pred_intents):\n",
    "    if pred not in intent_set:\n",
    "        pred_intents[idx] = \"ε\"\n",
    "\n",
    "# FOR DEBUGGING\n",
    "print(set(true_intents), set(pred_intents))\n",
    "for intent in set(true_intents):\n",
    "    if intent not in set(pred_intents):\n",
    "        pred_intents.append(intent)\n",
    "        true_intents.append(\"ε\")\n",
    "\n",
    "if \"ε\" not in set(true_intents):\n",
    "    true_intents.append(\"ε\")\n",
    "    pred_intents.append(\"ε\")\n",
    "\n",
    "precisions = defaultdict(list)\n",
    "recalls = defaultdict(list)\n",
    "f1s = defaultdict(list)\n",
    "precs, recs, f1s, supports = precision_recall_fscore_support(true_intents, pred_intents)\n",
    "\n",
    "print(\"Precisions: \", precs)\n",
    "print(\"Recalls: \", recs)\n",
    "print(\"F1 scores: \", f1s)\n",
    "\n",
    "# cmap = sns.color_palette(\"Reds\", 256)\n",
    "cmap = sns.color_palette(\"Blues\", 256)\n",
    "\n",
    "out_path = \"confmat_figures\"\n",
    "if not os.path.exists(out_path):\n",
    "    os.makedirs(out_path)\n",
    "\n",
    "#sns.set_context(\"paper\", rc={\"font.size\":18,\"axes.labelsize\":18})\n",
    "sns.set(font_scale = 1.0)\n",
    "\n",
    "data = confusion_matrix(true_intents, pred_intents)\n",
    "print(confusion_matrix)\n",
    "df_cm = pd.DataFrame(data, columns=np.unique(pred_intents), index=np.unique(true_intents))\n",
    "df_cm.index.name = \"True Intent\"\n",
    "df_cm.columns.name = \"Predicted Intent\"\n",
    "\n",
    "# non-normalized figure\n",
    "ax = sns.heatmap(df_cm, cmap=cmap, annot=False)\n",
    "# ax.xaxis.set_major_locator(ticker.FixedLocator(np.arange(0, 100, 10)))\n",
    "# ax.xaxis.set_major_formatter(ticker.ScalarFormatter())\n",
    "# ax.yaxis.set_major_locator(ticker.FixedLocator(np.arange(0, 100, 10)))\n",
    "# ax.yaxis.set_major_formatter(ticker.ScalarFormatter())\n",
    "ax.xaxis.tick_top() # x axis on top\n",
    "ax.xaxis.set_label_position('top')\n",
    "plt.xticks(rotation=45, ha='left')\n",
    "plt.savefig(os.path.join(out_path, f\"conf_mat_{confmat_name}_1shot.png\"), format=\"png\", \\\n",
    "    bbox_inches='tight', pad_inches=0.01)\n",
    "plt.cla(); plt.clf()\n",
    "\n",
    "# # normalized figure\n",
    "import numpy as np\n",
    "\n",
    "df_cmn = df_cm.astype('float') / np.array(df_cm.sum(axis=1))[:, np.newaxis]\n",
    "\n",
    "df_cmn.index.name = \"True Intent\"\n",
    "df_cmn.columns.name = \"Predicted Intent\"\n",
    "ax = sns.heatmap(df_cmn, cmap=cmap, annot=False, vmax=1.0)\n",
    "# ax.xaxis.set_major_locator(ticker.FixedLocator(np.arange(0, 100, 10)))\n",
    "# ax.xaxis.set_major_formatter(ticker.ScalarFormatter())\n",
    "# ax.yaxis.set_major_locator(ticker.FixedLocator(np.arange(0, 100, 10)))\n",
    "# ax.yaxis.set_major_formatter(ticker.ScalarFormatter())\n",
    "ax.xaxis.tick_top() # x axis on top\n",
    "ax.xaxis.set_label_position('top')\n",
    "ax.tick_params(left=True)\n",
    "plt.xticks(rotation=45, ha='left')\n",
    "plt.savefig(os.path.join(out_path, f\"conf_mat_{confmat_name}_1shot_norm.png\"), format=\"png\", \\\n",
    "    bbox_inches='tight', pad_inches=0.01)\n",
    "plt.cla(); plt.clf()"
   ]
  },
  {
   "cell_type": "code",
   "execution_count": null,
   "metadata": {},
   "outputs": [],
   "source": []
  }
 ],
 "metadata": {
  "kernelspec": {
   "display_name": ".venv",
   "language": "python",
   "name": "python3"
  },
  "language_info": {
   "codemirror_mode": {
    "name": "ipython",
    "version": 3
   },
   "file_extension": ".py",
   "mimetype": "text/x-python",
   "name": "python",
   "nbconvert_exporter": "python",
   "pygments_lexer": "ipython3",
   "version": "3.10.10"
  },
  "orig_nbformat": 4
 },
 "nbformat": 4,
 "nbformat_minor": 2
}
