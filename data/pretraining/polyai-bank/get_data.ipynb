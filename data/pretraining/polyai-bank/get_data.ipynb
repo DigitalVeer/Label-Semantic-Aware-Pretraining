{
  "cells": [
    {
      "attachments": {},
      "cell_type": "markdown",
      "metadata": {
        "id": "q_qQbZmH_RFA"
      },
      "source": [
        "# LSAP Data Inspection & Retrieval\n",
        "---\n",
        "This notebook contains code for retrieving the polybanking dataset used in our NLP project. \n"
      ]
    },
    {
      "cell_type": "markdown",
      "metadata": {
        "id": "yKvkIMdd-waj"
      },
      "source": [
        "## Install Libraries & Set Seed"
      ]
    },
    {
      "cell_type": "code",
      "execution_count": 1,
      "metadata": {
        "id": "JXz8wieWtnix"
      },
      "outputs": [],
      "source": [
        "import random, torch\n",
        "import numpy as np\n",
        "import pandas as pd\n",
        "\n",
        "def set_seed( seed ):\n",
        "    random.seed( seed )\n",
        "    np.random.seed( seed )\n",
        "    torch.manual_seed( seed )\n",
        "    if torch.cuda.is_available():\n",
        "        torch.cuda.manual_seed_all( seed )\n",
        "\n",
        "#Set seed for consistency\n",
        "set_seed(42)\n",
        "\n",
        "#Set to True to combine all data or False for \"train.csv\", \"val.csv\", \"test.csv\"\n",
        "SPLIT = False\n",
        "\n",
        "#Set train, val, and test split sizes\n",
        "TRAIN_SPLIT = 0.6\n",
        "VAL_SPLIT   = 0.2\n",
        "TEST_SPLIT  = 0.2"
      ]
    },
    {
      "cell_type": "markdown",
      "metadata": {
        "id": "9cI4dg9eDZNY"
      },
      "source": [
        "## Preprocess pre-training dataset\n",
        "\n",
        "Our pre-training dataset is a combination of the [Banking77 Dataset](https://huggingface.co/datasets/PolyAI/banking77) and [WikiHow Intents Dataset](https://github.com/zharry29/wikihow-intent) with a few tweaks. Below, we load them both in, preprocess them, and get them ready for training our model.\n",
        "\n",
        "---"
      ]
    },
    {
      "cell_type": "markdown",
      "metadata": {
        "id": "VksFUcFvDTNO"
      },
      "source": [
        "### Load PolyBanking Dataset"
      ]
    },
    {
      "cell_type": "code",
      "execution_count": 2,
      "metadata": {
        "colab": {
          "base_uri": "https://localhost:8080/",
          "height": 240,
          "referenced_widgets": [
            "7d44093c4e0143ec9d5d09047ac870c1",
            "4b5d5cb4940c4f848feaf1f0db8e5d57",
            "44390344c26a47b1baee80d0c0dda367",
            "9a2e5fbd933b410c92a8ee9e56124333",
            "1da87f9276c641dabb3e185f8078990c",
            "c7c4bd05d3b4496f9fca35398234d8f5",
            "f9ff3bfb749044578caa1b8077a4519e",
            "a98f15208f324dc1b89e1333c6fa4f85",
            "912faf4d3bce42638ca7db9b311714f3",
            "b6e031039de54b55beb959c01b581377",
            "a3ea5d72e4d0440e86e36c25994d0180"
          ]
        },
        "id": "jNMud_QjuAfG",
        "outputId": "7af755ce-1909-4244-8ecd-4681e674fdbe"
      },
      "outputs": [
        {
          "name": "stderr",
          "output_type": "stream",
          "text": [
            "Found cached dataset banking77 (D:/digit/Documents/Development/HuggingFace/Datasets/PolyAIBanking/PolyAI___banking77/default/1.1.0/aec0289529599d4572d76ab00c8944cb84f88410ad0c9e7da26189d31f62a55b)\n"
          ]
        },
        {
          "data": {
            "application/vnd.jupyter.widget-view+json": {
              "model_id": "f434a1b5d73f491b918b1217433e1bfb",
              "version_major": 2,
              "version_minor": 0
            },
            "text/plain": [
              "  0%|          | 0/2 [00:00<?, ?it/s]"
            ]
          },
          "metadata": {},
          "output_type": "display_data"
        },
        {
          "data": {
            "text/plain": [
              "DatasetDict({\n",
              "    train: Dataset({\n",
              "        features: ['text', 'label'],\n",
              "        num_rows: 10003\n",
              "    })\n",
              "    test: Dataset({\n",
              "        features: ['text', 'label'],\n",
              "        num_rows: 3080\n",
              "    })\n",
              "})"
            ]
          },
          "execution_count": 2,
          "metadata": {},
          "output_type": "execute_result"
        }
      ],
      "source": [
        "#Load PolyBanking Dataset from HuggingFace\n",
        "from datasets import load_dataset, Dataset, concatenate_datasets, ClassLabel\n",
        "banking_dataset = load_dataset( \"PolyAI/banking77\", cache_dir=\"D:\\digit\\Documents\\Development\\HuggingFace\\Datasets\\PolyAIBanking\")\n",
        "\n",
        "#Return Dataframe to perform operations on\n",
        "banking_dataset.set_format( type=\"pandas\" )\n",
        "banking_dataset"
      ]
    },
    {
      "attachments": {},
      "cell_type": "markdown",
      "metadata": {},
      "source": [
        "### Preprocessing PolyBanking Dataset\n",
        "We want to ensure the labels are properly formatted."
      ]
    },
    {
      "cell_type": "code",
      "execution_count": 3,
      "metadata": {
        "colab": {
          "base_uri": "https://localhost:8080/",
          "height": 363
        },
        "id": "1pvCDCmsLCJd",
        "outputId": "ccd1f639-0b21-4c6b-9564-325eb2c25630"
      },
      "outputs": [],
      "source": [
        "#Concatenate train/test into one dataframe\n",
        "banking_dict = concatenate_datasets( [banking_dataset[\"train\"], banking_dataset[\"test\"]] )\n",
        "\n",
        "#Extract data from dictionary\n",
        "banking_df = banking_dict.data.to_pandas()\n",
        "\n",
        "#Add Label Names for each label\n",
        "def add_labelname( row ):\n",
        "  return banking_dataset[\"train\"].features[\"label\"].int2str( row )\n",
        "\n",
        "def correct_label( row ):\n",
        "  return \" \".join( [word.capitalize() for word in row.split(\"_\")] ) + \".\"\n",
        "\n",
        "#Add label name associated with each label\n",
        "banking_df[\"label_name\"] = banking_df[\"label\"].apply( add_labelname )\n",
        "banking_df[\"label_name\"] = banking_df[\"label_name\"].apply( correct_label )"
      ]
    },
    {
      "cell_type": "code",
      "execution_count": 4,
      "metadata": {},
      "outputs": [
        {
          "data": {
            "text/html": [
              "<div>\n",
              "<style scoped>\n",
              "    .dataframe tbody tr th:only-of-type {\n",
              "        vertical-align: middle;\n",
              "    }\n",
              "\n",
              "    .dataframe tbody tr th {\n",
              "        vertical-align: top;\n",
              "    }\n",
              "\n",
              "    .dataframe thead th {\n",
              "        text-align: right;\n",
              "    }\n",
              "</style>\n",
              "<table border=\"1\" class=\"dataframe\">\n",
              "  <thead>\n",
              "    <tr style=\"text-align: right;\">\n",
              "      <th></th>\n",
              "      <th>text</th>\n",
              "      <th>label</th>\n",
              "      <th>label_name</th>\n",
              "    </tr>\n",
              "  </thead>\n",
              "  <tbody>\n",
              "    <tr>\n",
              "      <th>353</th>\n",
              "      <td>Please explain the exchange rates.</td>\n",
              "      <td>32</td>\n",
              "      <td>Exchange Rate.</td>\n",
              "    </tr>\n",
              "    <tr>\n",
              "      <th>10210</th>\n",
              "      <td>I got some cash of an ATM earlier but this sho...</td>\n",
              "      <td>46</td>\n",
              "      <td>Pending Cash Withdrawal.</td>\n",
              "    </tr>\n",
              "    <tr>\n",
              "      <th>5361</th>\n",
              "      <td>I just replaced my phone but how do I use my c...</td>\n",
              "      <td>42</td>\n",
              "      <td>Lost Or Stolen Phone.</td>\n",
              "    </tr>\n",
              "    <tr>\n",
              "      <th>7051</th>\n",
              "      <td>I wasn't able to do a transfer to an account</td>\n",
              "      <td>7</td>\n",
              "      <td>Beneficiary Not Allowed.</td>\n",
              "    </tr>\n",
              "    <tr>\n",
              "      <th>3617</th>\n",
              "      <td>I don't recognize a charge on my statement.</td>\n",
              "      <td>16</td>\n",
              "      <td>Card Payment Not Recognised.</td>\n",
              "    </tr>\n",
              "    <tr>\n",
              "      <th>10577</th>\n",
              "      <td>How do I check my security settings to allow c...</td>\n",
              "      <td>23</td>\n",
              "      <td>Contactless Not Working.</td>\n",
              "    </tr>\n",
              "    <tr>\n",
              "      <th>6087</th>\n",
              "      <td>What is the average pending time for a transac...</td>\n",
              "      <td>48</td>\n",
              "      <td>Pending Transfer.</td>\n",
              "    </tr>\n",
              "    <tr>\n",
              "      <th>2267</th>\n",
              "      <td>is there a limit for top up?</td>\n",
              "      <td>60</td>\n",
              "      <td>Top Up Limits.</td>\n",
              "    </tr>\n",
              "    <tr>\n",
              "      <th>7712</th>\n",
              "      <td>Why do we need to verify a top-up card?</td>\n",
              "      <td>71</td>\n",
              "      <td>Verify Top Up.</td>\n",
              "    </tr>\n",
              "    <tr>\n",
              "      <th>5576</th>\n",
              "      <td>I have been doing some online shopping, but wh...</td>\n",
              "      <td>27</td>\n",
              "      <td>Declined Transfer.</td>\n",
              "    </tr>\n",
              "  </tbody>\n",
              "</table>\n",
              "</div>"
            ],
            "text/plain": [
              "                                                    text  label   \n",
              "353                   Please explain the exchange rates.     32  \\\n",
              "10210  I got some cash of an ATM earlier but this sho...     46   \n",
              "5361   I just replaced my phone but how do I use my c...     42   \n",
              "7051        I wasn't able to do a transfer to an account      7   \n",
              "3617         I don't recognize a charge on my statement.     16   \n",
              "10577  How do I check my security settings to allow c...     23   \n",
              "6087   What is the average pending time for a transac...     48   \n",
              "2267                        is there a limit for top up?     60   \n",
              "7712             Why do we need to verify a top-up card?     71   \n",
              "5576   I have been doing some online shopping, but wh...     27   \n",
              "\n",
              "                         label_name  \n",
              "353                  Exchange Rate.  \n",
              "10210      Pending Cash Withdrawal.  \n",
              "5361          Lost Or Stolen Phone.  \n",
              "7051       Beneficiary Not Allowed.  \n",
              "3617   Card Payment Not Recognised.  \n",
              "10577      Contactless Not Working.  \n",
              "6087              Pending Transfer.  \n",
              "2267                 Top Up Limits.  \n",
              "7712                 Verify Top Up.  \n",
              "5576             Declined Transfer.  "
            ]
          },
          "execution_count": 4,
          "metadata": {},
          "output_type": "execute_result"
        }
      ],
      "source": [
        "banking_df.sample( frac = 1 ).head( 10 )"
      ]
    },
    {
      "cell_type": "markdown",
      "metadata": {
        "id": "XG5AXaSbEDFc"
      },
      "source": [
        "### Inspection\n",
        "\n",
        "Below, we inspect our dataset to look for imbalances in labels, and to see if we need to sample our data differently."
      ]
    },
    {
      "cell_type": "code",
      "execution_count": 5,
      "metadata": {
        "colab": {
          "base_uri": "https://localhost:8080/",
          "height": 437
        },
        "id": "t97WNlei0AMI",
        "outputId": "06431a8c-1673-4361-e14b-6ea09ce5775c"
      },
      "outputs": [
        {
          "data": {
            "image/png": "[encoded data removed]",
            "text/plain": [
              "<Figure size 640x480 with 1 Axes>"
            ]
          },
          "metadata": {},
          "output_type": "display_data"
        }
      ],
      "source": [
        "import matplotlib.pyplot as plt\n",
        "\n",
        "# Get frequency of each label\n",
        "label_counts = banking_df[\"label_name\"].value_counts()\n",
        "\n",
        "# Sort the label counts in descending order\n",
        "sorted_counts = label_counts.sort_values( ascending = False )\n",
        "\n",
        "# Create a sorted list of labels and their corresponding counts\n",
        "labels = sorted_counts.index.tolist()\n",
        "counts = sorted_counts.tolist()\n",
        "\n",
        "# Create an area graph\n",
        "plt.stackplot(labels, counts, alpha=0.5)\n",
        "plt.gca().set_xticklabels([])\n",
        "plt.title(\"Label Count Distribution\")\n",
        "\n",
        "plt.show()"
      ]
    },
    {
      "attachments": {},
      "cell_type": "markdown",
      "metadata": {
        "id": "gYbNEF1vEsXB"
      },
      "source": [
        "### Save Training, Testing, and Validation Data"
      ]
    },
    {
      "cell_type": "code",
      "execution_count": 6,
      "metadata": {},
      "outputs": [],
      "source": [
        "#Split data into train, validation and test sets\n",
        "shuffled_df = banking_df.sample( frac = 1, random_state=42 )\n",
        "\n",
        "#Split data into train, validation and test sets\n",
        "n = len( shuffled_df )\n",
        "train_size = int( TRAIN_SPLIT * n )\n",
        "val_size   = int( VAL_SPLIT   * n ) + train_size\n",
        "train, validate, test = np.split( shuffled_df, [ train_size, val_size ])\n",
        "\n",
        "# If combine, then combine train, val and test into one dataframe\n",
        "if not SPLIT:\n",
        "    banking_df.to_csv( \"data.csv\" )\n",
        "else:\n",
        "    #Save data to csv files\n",
        "    train.to_csv( \"train.csv\" ); validate.to_csv( \"val.csv\" ); test.to_csv( \"test.csv\" )"
      ]
    }
  ],
  "metadata": {
    "accelerator": "GPU",
    "colab": {
      "collapsed_sections": [
        "yKvkIMdd-waj"
      ],
      "provenance": []
    },
    "gpuClass": "standard",
    "kernelspec": {
      "display_name": "Python 3",
      "name": "python3"
    },
    "language_info": {
      "codemirror_mode": {
        "name": "ipython",
        "version": 3
      },
      "file_extension": ".py",
      "mimetype": "text/x-python",
      "name": "python",
      "nbconvert_exporter": "python",
      "pygments_lexer": "ipython3",
      "version": "3.10.10"
    },
    "widgets": {
      "application/vnd.jupyter.widget-state+json": {
        "1da87f9276c641dabb3e185f8078990c": {
          "model_module": "@jupyter-widgets/base",
          "model_module_version": "1.2.0",
          "model_name": "LayoutModel",
          "state": {
            "_model_module": "@jupyter-widgets/base",
            "_model_module_version": "1.2.0",
            "_model_name": "LayoutModel",
            "_view_count": null,
            "_view_module": "@jupyter-widgets/base",
            "_view_module_version": "1.2.0",
            "_view_name": "LayoutView",
            "align_content": null,
            "align_items": null,
            "align_self": null,
            "border": null,
            "bottom": null,
            "display": null,
            "flex": null,
            "flex_flow": null,
            "grid_area": null,
            "grid_auto_columns": null,
            "grid_auto_flow": null,
            "grid_auto_rows": null,
            "grid_column": null,
            "grid_gap": null,
            "grid_row": null,
            "grid_template_areas": null,
            "grid_template_columns": null,
            "grid_template_rows": null,
            "height": null,
            "justify_content": null,
            "justify_items": null,
            "left": null,
            "margin": null,
            "max_height": null,
            "max_width": null,
            "min_height": null,
            "min_width": null,
            "object_fit": null,
            "object_position": null,
            "order": null,
            "overflow": null,
            "overflow_x": null,
            "overflow_y": null,
            "padding": null,
            "right": null,
            "top": null,
            "visibility": null,
            "width": null
          }
        },
        "44390344c26a47b1baee80d0c0dda367": {
          "model_module": "@jupyter-widgets/controls",
          "model_module_version": "1.5.0",
          "model_name": "FloatProgressModel",
          "state": {
            "_dom_classes": [],
            "_model_module": "@jupyter-widgets/controls",
            "_model_module_version": "1.5.0",
            "_model_name": "FloatProgressModel",
            "_view_count": null,
            "_view_module": "@jupyter-widgets/controls",
            "_view_module_version": "1.5.0",
            "_view_name": "ProgressView",
            "bar_style": "success",
            "description": "",
            "description_tooltip": null,
            "layout": "IPY_MODEL_a98f15208f324dc1b89e1333c6fa4f85",
            "max": 2,
            "min": 0,
            "orientation": "horizontal",
            "style": "IPY_MODEL_912faf4d3bce42638ca7db9b311714f3",
            "value": 2
          }
        },
        "4b5d5cb4940c4f848feaf1f0db8e5d57": {
          "model_module": "@jupyter-widgets/controls",
          "model_module_version": "1.5.0",
          "model_name": "HTMLModel",
          "state": {
            "_dom_classes": [],
            "_model_module": "@jupyter-widgets/controls",
            "_model_module_version": "1.5.0",
            "_model_name": "HTMLModel",
            "_view_count": null,
            "_view_module": "@jupyter-widgets/controls",
            "_view_module_version": "1.5.0",
            "_view_name": "HTMLView",
            "description": "",
            "description_tooltip": null,
            "layout": "IPY_MODEL_c7c4bd05d3b4496f9fca35398234d8f5",
            "placeholder": "​",
            "style": "IPY_MODEL_f9ff3bfb749044578caa1b8077a4519e",
            "value": "100%"
          }
        },
        "7d44093c4e0143ec9d5d09047ac870c1": {
          "model_module": "@jupyter-widgets/controls",
          "model_module_version": "1.5.0",
          "model_name": "HBoxModel",
          "state": {
            "_dom_classes": [],
            "_model_module": "@jupyter-widgets/controls",
            "_model_module_version": "1.5.0",
            "_model_name": "HBoxModel",
            "_view_count": null,
            "_view_module": "@jupyter-widgets/controls",
            "_view_module_version": "1.5.0",
            "_view_name": "HBoxView",
            "box_style": "",
            "children": [
              "IPY_MODEL_4b5d5cb4940c4f848feaf1f0db8e5d57",
              "IPY_MODEL_44390344c26a47b1baee80d0c0dda367",
              "IPY_MODEL_9a2e5fbd933b410c92a8ee9e56124333"
            ],
            "layout": "IPY_MODEL_1da87f9276c641dabb3e185f8078990c"
          }
        },
        "912faf4d3bce42638ca7db9b311714f3": {
          "model_module": "@jupyter-widgets/controls",
          "model_module_version": "1.5.0",
          "model_name": "ProgressStyleModel",
          "state": {
            "_model_module": "@jupyter-widgets/controls",
            "_model_module_version": "1.5.0",
            "_model_name": "ProgressStyleModel",
            "_view_count": null,
            "_view_module": "@jupyter-widgets/base",
            "_view_module_version": "1.2.0",
            "_view_name": "StyleView",
            "bar_color": null,
            "description_width": ""
          }
        },
        "9a2e5fbd933b410c92a8ee9e56124333": {
          "model_module": "@jupyter-widgets/controls",
          "model_module_version": "1.5.0",
          "model_name": "HTMLModel",
          "state": {
            "_dom_classes": [],
            "_model_module": "@jupyter-widgets/controls",
            "_model_module_version": "1.5.0",
            "_model_name": "HTMLModel",
            "_view_count": null,
            "_view_module": "@jupyter-widgets/controls",
            "_view_module_version": "1.5.0",
            "_view_name": "HTMLView",
            "description": "",
            "description_tooltip": null,
            "layout": "IPY_MODEL_b6e031039de54b55beb959c01b581377",
            "placeholder": "​",
            "style": "IPY_MODEL_a3ea5d72e4d0440e86e36c25994d0180",
            "value": " 2/2 [00:00&lt;00:00, 61.33it/s]"
          }
        },
        "a3ea5d72e4d0440e86e36c25994d0180": {
          "model_module": "@jupyter-widgets/controls",
          "model_module_version": "1.5.0",
          "model_name": "DescriptionStyleModel",
          "state": {
            "_model_module": "@jupyter-widgets/controls",
            "_model_module_version": "1.5.0",
            "_model_name": "DescriptionStyleModel",
            "_view_count": null,
            "_view_module": "@jupyter-widgets/base",
            "_view_module_version": "1.2.0",
            "_view_name": "StyleView",
            "description_width": ""
          }
        },
        "a98f15208f324dc1b89e1333c6fa4f85": {
          "model_module": "@jupyter-widgets/base",
          "model_module_version": "1.2.0",
          "model_name": "LayoutModel",
          "state": {
            "_model_module": "@jupyter-widgets/base",
            "_model_module_version": "1.2.0",
            "_model_name": "LayoutModel",
            "_view_count": null,
            "_view_module": "@jupyter-widgets/base",
            "_view_module_version": "1.2.0",
            "_view_name": "LayoutView",
            "align_content": null,
            "align_items": null,
            "align_self": null,
            "border": null,
            "bottom": null,
            "display": null,
            "flex": null,
            "flex_flow": null,
            "grid_area": null,
            "grid_auto_columns": null,
            "grid_auto_flow": null,
            "grid_auto_rows": null,
            "grid_column": null,
            "grid_gap": null,
            "grid_row": null,
            "grid_template_areas": null,
            "grid_template_columns": null,
            "grid_template_rows": null,
            "height": null,
            "justify_content": null,
            "justify_items": null,
            "left": null,
            "margin": null,
            "max_height": null,
            "max_width": null,
            "min_height": null,
            "min_width": null,
            "object_fit": null,
            "object_position": null,
            "order": null,
            "overflow": null,
            "overflow_x": null,
            "overflow_y": null,
            "padding": null,
            "right": null,
            "top": null,
            "visibility": null,
            "width": null
          }
        },
        "b6e031039de54b55beb959c01b581377": {
          "model_module": "@jupyter-widgets/base",
          "model_module_version": "1.2.0",
          "model_name": "LayoutModel",
          "state": {
            "_model_module": "@jupyter-widgets/base",
            "_model_module_version": "1.2.0",
            "_model_name": "LayoutModel",
            "_view_count": null,
            "_view_module": "@jupyter-widgets/base",
            "_view_module_version": "1.2.0",
            "_view_name": "LayoutView",
            "align_content": null,
            "align_items": null,
            "align_self": null,
            "border": null,
            "bottom": null,
            "display": null,
            "flex": null,
            "flex_flow": null,
            "grid_area": null,
            "grid_auto_columns": null,
            "grid_auto_flow": null,
            "grid_auto_rows": null,
            "grid_column": null,
            "grid_gap": null,
            "grid_row": null,
            "grid_template_areas": null,
            "grid_template_columns": null,
            "grid_template_rows": null,
            "height": null,
            "justify_content": null,
            "justify_items": null,
            "left": null,
            "margin": null,
            "max_height": null,
            "max_width": null,
            "min_height": null,
            "min_width": null,
            "object_fit": null,
            "object_position": null,
            "order": null,
            "overflow": null,
            "overflow_x": null,
            "overflow_y": null,
            "padding": null,
            "right": null,
            "top": null,
            "visibility": null,
            "width": null
          }
        },
        "c7c4bd05d3b4496f9fca35398234d8f5": {
          "model_module": "@jupyter-widgets/base",
          "model_module_version": "1.2.0",
          "model_name": "LayoutModel",
          "state": {
            "_model_module": "@jupyter-widgets/base",
            "_model_module_version": "1.2.0",
            "_model_name": "LayoutModel",
            "_view_count": null,
            "_view_module": "@jupyter-widgets/base",
            "_view_module_version": "1.2.0",
            "_view_name": "LayoutView",
            "align_content": null,
            "align_items": null,
            "align_self": null,
            "border": null,
            "bottom": null,
            "display": null,
            "flex": null,
            "flex_flow": null,
            "grid_area": null,
            "grid_auto_columns": null,
            "grid_auto_flow": null,
            "grid_auto_rows": null,
            "grid_column": null,
            "grid_gap": null,
            "grid_row": null,
            "grid_template_areas": null,
            "grid_template_columns": null,
            "grid_template_rows": null,
            "height": null,
            "justify_content": null,
            "justify_items": null,
            "left": null,
            "margin": null,
            "max_height": null,
            "max_width": null,
            "min_height": null,
            "min_width": null,
            "object_fit": null,
            "object_position": null,
            "order": null,
            "overflow": null,
            "overflow_x": null,
            "overflow_y": null,
            "padding": null,
            "right": null,
            "top": null,
            "visibility": null,
            "width": null
          }
        },
        "f9ff3bfb749044578caa1b8077a4519e": {
          "model_module": "@jupyter-widgets/controls",
          "model_module_version": "1.5.0",
          "model_name": "DescriptionStyleModel",
          "state": {
            "_model_module": "@jupyter-widgets/controls",
            "_model_module_version": "1.5.0",
            "_model_name": "DescriptionStyleModel",
            "_view_count": null,
            "_view_module": "@jupyter-widgets/base",
            "_view_module_version": "1.2.0",
            "_view_name": "StyleView",
            "description_width": ""
          }
        }
      }
    }
  },
  "nbformat": 4,
  "nbformat_minor": 0
}
