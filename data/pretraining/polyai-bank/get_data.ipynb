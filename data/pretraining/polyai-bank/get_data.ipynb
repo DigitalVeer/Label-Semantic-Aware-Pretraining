{
  "cells": [
    {
      "attachments": {},
      "cell_type": "markdown",
      "metadata": {
        "id": "q_qQbZmH_RFA"
      },
      "source": [
        "# LSAP Data Inspection & Retrieval\n",
        "---\n",
        "This notebook contains code for retrieving the polybanking dataset used in our NLP project. \n"
      ]
    },
    {
      "attachments": {},
      "cell_type": "markdown",
      "metadata": {
        "id": "yKvkIMdd-waj"
      },
      "source": [
        "## Install Libraries & Set Seed"
      ]
    },
    {
      "cell_type": "code",
      "execution_count": 1,
      "metadata": {
        "id": "JXz8wieWtnix"
      },
      "outputs": [],
      "source": [
        "import numpy as np\n",
        "import pandas as pd\n",
        "\n",
        "#Set to True to combine all data or False for \"train.csv\", \"val.csv\", \"test.csv\"\n",
        "SPLIT = False\n",
        "\n",
        "#Set train, val, and test split sizes\n",
        "TRAIN_SPLIT = 0.6\n",
        "VAL_SPLIT   = 0.2\n",
        "TEST_SPLIT  = 0.2"
      ]
    },
    {
      "attachments": {},
      "cell_type": "markdown",
      "metadata": {
        "id": "9cI4dg9eDZNY"
      },
      "source": [
        "## Preprocess pre-training dataset\n",
        "\n",
        "Our pre-training dataset is a combination of the [Banking77 Dataset](https://huggingface.co/datasets/PolyAI/banking77) and [WikiHow Intents Dataset](https://github.com/zharry29/wikihow-intent) with a few tweaks. Below, we load them both in, preprocess them, and get them ready for training our model.\n",
        "\n",
        "---"
      ]
    },
    {
      "attachments": {},
      "cell_type": "markdown",
      "metadata": {
        "id": "VksFUcFvDTNO"
      },
      "source": [
        "### Load PolyBanking Dataset"
      ]
    },
    {
      "cell_type": "code",
      "execution_count": 2,
      "metadata": {
        "colab": {
          "base_uri": "https://localhost:8080/",
          "height": 240,
          "referenced_widgets": [
            "7d44093c4e0143ec9d5d09047ac870c1",
            "4b5d5cb4940c4f848feaf1f0db8e5d57",
            "44390344c26a47b1baee80d0c0dda367",
            "9a2e5fbd933b410c92a8ee9e56124333",
            "1da87f9276c641dabb3e185f8078990c",
            "c7c4bd05d3b4496f9fca35398234d8f5",
            "f9ff3bfb749044578caa1b8077a4519e",
            "a98f15208f324dc1b89e1333c6fa4f85",
            "912faf4d3bce42638ca7db9b311714f3",
            "b6e031039de54b55beb959c01b581377",
            "a3ea5d72e4d0440e86e36c25994d0180"
          ]
        },
        "id": "jNMud_QjuAfG",
        "outputId": "7af755ce-1909-4244-8ecd-4681e674fdbe"
      },
      "outputs": [
        {
          "name": "stderr",
          "output_type": "stream",
          "text": [
            "Found cached dataset banking77 (D:/digit/Documents/Development/HuggingFace/Datasets/PolyAIBanking/PolyAI___banking77/default/1.1.0/aec0289529599d4572d76ab00c8944cb84f88410ad0c9e7da26189d31f62a55b)\n"
          ]
        },
        {
          "data": {
            "application/vnd.jupyter.widget-view+json": {
              "model_id": "bfade4066377435f9acb10e355d4ffa0",
              "version_major": 2,
              "version_minor": 0
            },
            "text/plain": [
              "  0%|          | 0/2 [00:00<?, ?it/s]"
            ]
          },
          "metadata": {},
          "output_type": "display_data"
        },
        {
          "data": {
            "text/plain": [
              "DatasetDict({\n",
              "    train: Dataset({\n",
              "        features: ['text', 'label'],\n",
              "        num_rows: 10003\n",
              "    })\n",
              "    test: Dataset({\n",
              "        features: ['text', 'label'],\n",
              "        num_rows: 3080\n",
              "    })\n",
              "})"
            ]
          },
          "execution_count": 2,
          "metadata": {},
          "output_type": "execute_result"
        }
      ],
      "source": [
        "#Load PolyBanking Dataset from HuggingFace\n",
        "from datasets import load_dataset, Dataset, concatenate_datasets, ClassLabel\n",
        "banking_dataset = load_dataset( \"PolyAI/banking77\", cache_dir=\"D:\\digit\\Documents\\Development\\HuggingFace\\Datasets\\PolyAIBanking\")\n",
        "\n",
        "#Return Dataframe to perform operations on\n",
        "banking_dataset.set_format( type=\"pandas\" )\n",
        "banking_dataset"
      ]
    },
    {
      "attachments": {},
      "cell_type": "markdown",
      "metadata": {},
      "source": [
        "### Preprocessing PolyBanking Dataset\n",
        "We want to ensure the labels are properly formatted."
      ]
    },
    {
      "cell_type": "code",
      "execution_count": 3,
      "metadata": {
        "colab": {
          "base_uri": "https://localhost:8080/",
          "height": 363
        },
        "id": "1pvCDCmsLCJd",
        "outputId": "ccd1f639-0b21-4c6b-9564-325eb2c25630"
      },
      "outputs": [],
      "source": [
        "#Concatenate train/test into one dataframe\n",
        "banking_dict = concatenate_datasets( [banking_dataset[\"train\"], banking_dataset[\"test\"]] )\n",
        "\n",
        "#Extract data from dictionary\n",
        "banking_df = banking_dict.data.to_pandas()\n",
        "\n",
        "#Add Label Names for each label\n",
        "def add_labelname( row ):\n",
        "  return banking_dataset[\"train\"].features[\"label\"].int2str( row )\n",
        "\n",
        "def correct_label( row ):\n",
        "  return \" \".join( [word.capitalize() for word in row.split(\"_\")] ) + \".\"\n",
        "\n",
        "#Add label name associated with each label\n",
        "banking_df[\"label_name\"] = banking_df[\"label\"].apply( add_labelname )\n",
        "banking_df[\"label_name\"] = banking_df[\"label_name\"].apply( correct_label )"
      ]
    },
    {
      "cell_type": "code",
      "execution_count": 4,
      "metadata": {},
      "outputs": [
        {
          "data": {
            "text/html": [
              "<div>\n",
              "<style scoped>\n",
              "    .dataframe tbody tr th:only-of-type {\n",
              "        vertical-align: middle;\n",
              "    }\n",
              "\n",
              "    .dataframe tbody tr th {\n",
              "        vertical-align: top;\n",
              "    }\n",
              "\n",
              "    .dataframe thead th {\n",
              "        text-align: right;\n",
              "    }\n",
              "</style>\n",
              "<table border=\"1\" class=\"dataframe\">\n",
              "  <thead>\n",
              "    <tr style=\"text-align: right;\">\n",
              "      <th></th>\n",
              "      <th>text</th>\n",
              "      <th>label</th>\n",
              "      <th>label_name</th>\n",
              "    </tr>\n",
              "  </thead>\n",
              "  <tbody>\n",
              "    <tr>\n",
              "      <th>12491</th>\n",
              "      <td>Can I request a physical card?</td>\n",
              "      <td>43</td>\n",
              "      <td>Order Physical Card.</td>\n",
              "    </tr>\n",
              "    <tr>\n",
              "      <th>6228</th>\n",
              "      <td>This is terrible, i want to delete my account</td>\n",
              "      <td>55</td>\n",
              "      <td>Terminate Account.</td>\n",
              "    </tr>\n",
              "    <tr>\n",
              "      <th>11339</th>\n",
              "      <td>Can I give my friends access to my account so ...</td>\n",
              "      <td>62</td>\n",
              "      <td>Topping Up By Card.</td>\n",
              "    </tr>\n",
              "    <tr>\n",
              "      <th>10808</th>\n",
              "      <td>I used my card for a purchase and was charged ...</td>\n",
              "      <td>15</td>\n",
              "      <td>Card Payment Fee Charged.</td>\n",
              "    </tr>\n",
              "    <tr>\n",
              "      <th>3926</th>\n",
              "      <td>Why isn't this accepting my identity?</td>\n",
              "      <td>68</td>\n",
              "      <td>Unable To Verify Identity.</td>\n",
              "    </tr>\n",
              "    <tr>\n",
              "      <th>9707</th>\n",
              "      <td>Does my top up and apple pay work together?</td>\n",
              "      <td>2</td>\n",
              "      <td>Apple Pay Or Google Pay.</td>\n",
              "    </tr>\n",
              "    <tr>\n",
              "      <th>9339</th>\n",
              "      <td>Why have I been charged a fee for cash withdra...</td>\n",
              "      <td>19</td>\n",
              "      <td>Cash Withdrawal Charge.</td>\n",
              "    </tr>\n",
              "    <tr>\n",
              "      <th>7218</th>\n",
              "      <td>why was i chargged</td>\n",
              "      <td>64</td>\n",
              "      <td>Transfer Fee Charged.</td>\n",
              "    </tr>\n",
              "    <tr>\n",
              "      <th>7845</th>\n",
              "      <td>I want to give a second card for this account ...</td>\n",
              "      <td>39</td>\n",
              "      <td>Getting Spare Card.</td>\n",
              "    </tr>\n",
              "    <tr>\n",
              "      <th>6756</th>\n",
              "      <td>why did my payment revert</td>\n",
              "      <td>53</td>\n",
              "      <td>Reverted Card Payment?.</td>\n",
              "    </tr>\n",
              "  </tbody>\n",
              "</table>\n",
              "</div>"
            ],
            "text/plain": [
              "                                                    text  label   \n",
              "12491                     Can I request a physical card?     43  \\\n",
              "6228       This is terrible, i want to delete my account     55   \n",
              "11339  Can I give my friends access to my account so ...     62   \n",
              "10808  I used my card for a purchase and was charged ...     15   \n",
              "3926               Why isn't this accepting my identity?     68   \n",
              "9707         Does my top up and apple pay work together?      2   \n",
              "9339   Why have I been charged a fee for cash withdra...     19   \n",
              "7218                                  why was i chargged     64   \n",
              "7845   I want to give a second card for this account ...     39   \n",
              "6756                           why did my payment revert     53   \n",
              "\n",
              "                       label_name  \n",
              "12491        Order Physical Card.  \n",
              "6228           Terminate Account.  \n",
              "11339         Topping Up By Card.  \n",
              "10808   Card Payment Fee Charged.  \n",
              "3926   Unable To Verify Identity.  \n",
              "9707     Apple Pay Or Google Pay.  \n",
              "9339      Cash Withdrawal Charge.  \n",
              "7218        Transfer Fee Charged.  \n",
              "7845          Getting Spare Card.  \n",
              "6756      Reverted Card Payment?.  "
            ]
          },
          "execution_count": 4,
          "metadata": {},
          "output_type": "execute_result"
        }
      ],
      "source": [
        "banking_df.sample( frac = 1 ).head( 10 )"
      ]
    },
    {
      "attachments": {},
      "cell_type": "markdown",
      "metadata": {
        "id": "XG5AXaSbEDFc"
      },
      "source": [
        "### Inspection\n",
        "\n",
        "Below, we inspect our dataset to look for imbalances in labels, and to see if we need to sample our data differently."
      ]
    },
    {
      "cell_type": "code",
      "execution_count": 5,
      "metadata": {
        "colab": {
          "base_uri": "https://localhost:8080/",
          "height": 437
        },
        "id": "t97WNlei0AMI",
        "outputId": "06431a8c-1673-4361-e14b-6ea09ce5775c"
      },
      "outputs": [
        {
          "data": {
            "application/vnd.plotly.v1+json": {
              "config": {
                "plotlyServerURL": "https://plot.ly"
              },
              "data": [
                {
                  "fillpattern": {
                    "shape": ""
                  },
                  "hovertemplate": "x=%{x}<br>y=%{y}<extra></extra>",
                  "legendgroup": "",
                  "line": {
                    "color": "#636efa"
                  },
                  "marker": {
                    "symbol": "circle"
                  },
                  "mode": "lines",
                  "name": "",
                  "orientation": "v",
                  "showlegend": false,
                  "stackgroup": "1",
                  "type": "scatter",
                  "x": [
                    "Card Payment Fee Charged.",
                    "Direct Debit Payment Not Recognised.",
                    "Balance Not Updated After Cheque Or Cash Deposit.",
                    "Wrong Amount Of Cash Received.",
                    "Cash Withdrawal Charge.",
                    "Transaction Charged Twice.",
                    "Declined Cash Withdrawal.",
                    "Transfer Fee Charged.",
                    "Transfer Not Received By Recipient.",
                    "Balance Not Updated After Bank Transfer.",
                    "Request Refund.",
                    "Card Payment Not Recognised.",
                    "Card Payment Wrong Exchange Rate.",
                    "Extra Charge On Statement.",
                    "Wrong Exchange Rate For Cash Withdrawal.",
                    "Refund Not Showing Up.",
                    "Reverted Card Payment?.",
                    "Cash Withdrawal Not Recognised.",
                    "Activate My Card.",
                    "Pending Card Payment.",
                    "Cancel Transfer.",
                    "Beneficiary Not Allowed.",
                    "Declined Card Payment.",
                    "Card Arrival.",
                    "Pending Top Up.",
                    "Pending Transfer.",
                    "Top Up Reverted.",
                    "Top Up Failed.",
                    "Pending Cash Withdrawal.",
                    "Card Linking.",
                    "Failed Transfer.",
                    "Visa Or Mastercard.",
                    "Declined Transfer.",
                    "Getting Spare Card.",
                    "Card About To Expire.",
                    "Country Support.",
                    "Supported Cards And Currencies.",
                    "Transfer Timing.",
                    "Automatic Top Up.",
                    "Fiat Currency Support.",
                    "Verify Top Up.",
                    "Apple Pay Or Google Pay.",
                    "Change Pin.",
                    "Lost Or Stolen Phone.",
                    "Why Verify Identity.",
                    "Edit Personal Details.",
                    "Disposable Card Limits.",
                    "Exchange Charge.",
                    "Order Physical Card.",
                    "Exchange Via App.",
                    "Pin Blocked.",
                    "Top Up By Cash Or Cheque.",
                    "Top Up By Card Charge.",
                    "Transfer Into Account.",
                    "Verify Source Of Funds.",
                    "Exchange Rate.",
                    "Card Delivery Estimate.",
                    "Card Not Working.",
                    "Top Up By Bank Transfer Charge.",
                    "Age Limit.",
                    "Terminate Account.",
                    "Get Physical Card.",
                    "Passcode Forgotten.",
                    "Verify My Identity.",
                    "Topping Up By Card.",
                    "Unable To Verify Identity.",
                    "Getting Virtual Card.",
                    "Get Disposable Virtual Card.",
                    "Top Up Limits.",
                    "Receiving Money.",
                    "Atm Support.",
                    "Compromised Card.",
                    "Lost Or Stolen Card.",
                    "Card Swallowed.",
                    "Card Acceptance.",
                    "Virtual Card Not Working.",
                    "Contactless Not Working."
                  ],
                  "xaxis": "x",
                  "y": [
                    227,
                    222,
                    221,
                    220,
                    217,
                    215,
                    213,
                    212,
                    211,
                    211,
                    209,
                    208,
                    207,
                    206,
                    203,
                    202,
                    201,
                    200,
                    199,
                    199,
                    197,
                    196,
                    193,
                    193,
                    189,
                    188,
                    186,
                    185,
                    183,
                    179,
                    177,
                    175,
                    173,
                    169,
                    169,
                    169,
                    169,
                    168,
                    167,
                    166,
                    166,
                    166,
                    162,
                    161,
                    161,
                    161,
                    161,
                    161,
                    160,
                    158,
                    155,
                    154,
                    154,
                    153,
                    153,
                    152,
                    152,
                    152,
                    151,
                    150,
                    148,
                    146,
                    145,
                    144,
                    143,
                    142,
                    138,
                    137,
                    137,
                    135,
                    127,
                    126,
                    122,
                    101,
                    99,
                    81,
                    75
                  ],
                  "yaxis": "y"
                },
                {
                  "line": {
                    "color": "purple"
                  },
                  "mode": "lines",
                  "name": "Train",
                  "type": "scatter",
                  "x": [
                    "Card Payment Fee Charged.",
                    "Direct Debit Payment Not Recognised.",
                    "Balance Not Updated After Cheque Or Cash Deposit.",
                    "Wrong Amount Of Cash Received.",
                    "Cash Withdrawal Charge.",
                    "Transaction Charged Twice.",
                    "Declined Cash Withdrawal.",
                    "Transfer Fee Charged.",
                    "Transfer Not Received By Recipient.",
                    "Balance Not Updated After Bank Transfer.",
                    "Request Refund.",
                    "Card Payment Not Recognised.",
                    "Card Payment Wrong Exchange Rate.",
                    "Extra Charge On Statement.",
                    "Wrong Exchange Rate For Cash Withdrawal.",
                    "Refund Not Showing Up.",
                    "Reverted Card Payment?.",
                    "Cash Withdrawal Not Recognised.",
                    "Activate My Card.",
                    "Pending Card Payment.",
                    "Cancel Transfer.",
                    "Beneficiary Not Allowed.",
                    "Declined Card Payment.",
                    "Card Arrival.",
                    "Pending Top Up.",
                    "Pending Transfer.",
                    "Top Up Reverted.",
                    "Top Up Failed.",
                    "Pending Cash Withdrawal.",
                    "Card Linking.",
                    "Failed Transfer.",
                    "Visa Or Mastercard.",
                    "Declined Transfer.",
                    "Getting Spare Card.",
                    "Card About To Expire.",
                    "Country Support.",
                    "Supported Cards And Currencies.",
                    "Transfer Timing.",
                    "Automatic Top Up.",
                    "Fiat Currency Support.",
                    "Verify Top Up.",
                    "Apple Pay Or Google Pay.",
                    "Change Pin.",
                    "Lost Or Stolen Phone.",
                    "Why Verify Identity.",
                    "Edit Personal Details.",
                    "Disposable Card Limits.",
                    "Exchange Charge.",
                    "Order Physical Card.",
                    "Exchange Via App.",
                    "Pin Blocked.",
                    "Top Up By Cash Or Cheque.",
                    "Top Up By Card Charge.",
                    "Transfer Into Account.",
                    "Verify Source Of Funds.",
                    "Exchange Rate.",
                    "Card Delivery Estimate.",
                    "Card Not Working.",
                    "Top Up By Bank Transfer Charge.",
                    "Age Limit.",
                    "Terminate Account.",
                    "Get Physical Card.",
                    "Passcode Forgotten.",
                    "Verify My Identity.",
                    "Topping Up By Card.",
                    "Unable To Verify Identity.",
                    "Getting Virtual Card.",
                    "Get Disposable Virtual Card.",
                    "Top Up Limits.",
                    "Receiving Money.",
                    "Atm Support.",
                    "Compromised Card.",
                    "Lost Or Stolen Card.",
                    "Card Swallowed.",
                    "Card Acceptance.",
                    "Virtual Card Not Working.",
                    "Contactless Not Working."
                  ],
                  "y": [
                    187,
                    182,
                    181,
                    180,
                    177,
                    175,
                    173,
                    172,
                    171,
                    171,
                    169,
                    168,
                    167,
                    166,
                    163,
                    162,
                    161,
                    160,
                    159,
                    159,
                    157,
                    156,
                    153,
                    153,
                    149,
                    148,
                    146,
                    145,
                    143,
                    139,
                    137,
                    135,
                    133,
                    129,
                    129,
                    129,
                    129,
                    128,
                    127,
                    126,
                    126,
                    126,
                    122,
                    121,
                    121,
                    121,
                    121,
                    121,
                    120,
                    118,
                    115,
                    114,
                    114,
                    113,
                    113,
                    112,
                    112,
                    112,
                    111,
                    110,
                    108,
                    106,
                    105,
                    104,
                    103,
                    102,
                    98,
                    97,
                    97,
                    95,
                    87,
                    86,
                    82,
                    61,
                    59,
                    41,
                    35
                  ]
                },
                {
                  "line": {
                    "color": "green"
                  },
                  "mode": "lines",
                  "name": "Test",
                  "type": "scatter",
                  "x": [
                    "Card Arrival.",
                    "Transaction Charged Twice.",
                    "Receiving Money.",
                    "Transfer Fee Charged.",
                    "Beneficiary Not Allowed.",
                    "Change Pin.",
                    "Reverted Card Payment?.",
                    "Transfer Timing.",
                    "Verify Source Of Funds.",
                    "Card Swallowed.",
                    "Declined Cash Withdrawal.",
                    "Terminate Account.",
                    "Pending Transfer.",
                    "Declined Card Payment.",
                    "Refund Not Showing Up.",
                    "Declined Transfer.",
                    "Request Refund.",
                    "Lost Or Stolen Phone.",
                    "Failed Transfer.",
                    "Transfer Into Account.",
                    "Verify Top Up.",
                    "Getting Spare Card.",
                    "Verify My Identity.",
                    "Apple Pay Or Google Pay.",
                    "Card About To Expire.",
                    "Cash Withdrawal Charge.",
                    "Activate My Card.",
                    "Top Up By Card Charge.",
                    "Exchange Charge.",
                    "Cash Withdrawal Not Recognised.",
                    "Balance Not Updated After Bank Transfer.",
                    "Top Up Failed.",
                    "Get Disposable Virtual Card.",
                    "Wrong Exchange Rate For Cash Withdrawal.",
                    "Virtual Card Not Working.",
                    "Order Physical Card.",
                    "Top Up By Cash Or Cheque.",
                    "Pending Card Payment.",
                    "Passcode Forgotten.",
                    "Card Linking.",
                    "Exchange Via App.",
                    "Cancel Transfer.",
                    "Pending Top Up.",
                    "Top Up By Bank Transfer Charge.",
                    "Contactless Not Working.",
                    "Pin Blocked.",
                    "Age Limit.",
                    "Lost Or Stolen Card.",
                    "Card Not Working.",
                    "Direct Debit Payment Not Recognised.",
                    "Automatic Top Up.",
                    "Card Delivery Estimate.",
                    "Fiat Currency Support.",
                    "Pending Cash Withdrawal.",
                    "Extra Charge On Statement.",
                    "Card Payment Wrong Exchange Rate.",
                    "Exchange Rate.",
                    "Top Up Limits.",
                    "Wrong Amount Of Cash Received.",
                    "Card Payment Fee Charged.",
                    "Transfer Not Received By Recipient.",
                    "Atm Support.",
                    "Compromised Card.",
                    "Disposable Card Limits.",
                    "Topping Up By Card.",
                    "Visa Or Mastercard.",
                    "Get Physical Card.",
                    "Unable To Verify Identity.",
                    "Why Verify Identity.",
                    "Edit Personal Details.",
                    "Card Payment Not Recognised.",
                    "Balance Not Updated After Cheque Or Cash Deposit.",
                    "Top Up Reverted.",
                    "Card Acceptance.",
                    "Getting Virtual Card.",
                    "Supported Cards And Currencies.",
                    "Country Support."
                  ],
                  "y": [
                    40,
                    40,
                    40,
                    40,
                    40,
                    40,
                    40,
                    40,
                    40,
                    40,
                    40,
                    40,
                    40,
                    40,
                    40,
                    40,
                    40,
                    40,
                    40,
                    40,
                    40,
                    40,
                    40,
                    40,
                    40,
                    40,
                    40,
                    40,
                    40,
                    40,
                    40,
                    40,
                    40,
                    40,
                    40,
                    40,
                    40,
                    40,
                    40,
                    40,
                    40,
                    40,
                    40,
                    40,
                    40,
                    40,
                    40,
                    40,
                    40,
                    40,
                    40,
                    40,
                    40,
                    40,
                    40,
                    40,
                    40,
                    40,
                    40,
                    40,
                    40,
                    40,
                    40,
                    40,
                    40,
                    40,
                    40,
                    40,
                    40,
                    40,
                    40,
                    40,
                    40,
                    40,
                    40,
                    40,
                    40
                  ]
                }
              ],
              "layout": {
                "height": 700,
                "legend": {
                  "tracegroupgap": 0
                },
                "template": {
                  "data": {
                    "bar": [
                      {
                        "error_x": {
                          "color": "#f2f5fa"
                        },
                        "error_y": {
                          "color": "#f2f5fa"
                        },
                        "marker": {
                          "line": {
                            "color": "rgb(17,17,17)",
                            "width": 0.5
                          },
                          "pattern": {
                            "fillmode": "overlay",
                            "size": 10,
                            "solidity": 0.2
                          }
                        },
                        "type": "bar"
                      }
                    ],
                    "barpolar": [
                      {
                        "marker": {
                          "line": {
                            "color": "rgb(17,17,17)",
                            "width": 0.5
                          },
                          "pattern": {
                            "fillmode": "overlay",
                            "size": 10,
                            "solidity": 0.2
                          }
                        },
                        "type": "barpolar"
                      }
                    ],
                    "carpet": [
                      {
                        "aaxis": {
                          "endlinecolor": "#A2B1C6",
                          "gridcolor": "#506784",
                          "linecolor": "#506784",
                          "minorgridcolor": "#506784",
                          "startlinecolor": "#A2B1C6"
                        },
                        "baxis": {
                          "endlinecolor": "#A2B1C6",
                          "gridcolor": "#506784",
                          "linecolor": "#506784",
                          "minorgridcolor": "#506784",
                          "startlinecolor": "#A2B1C6"
                        },
                        "type": "carpet"
                      }
                    ],
                    "choropleth": [
                      {
                        "colorbar": {
                          "outlinewidth": 0,
                          "ticks": ""
                        },
                        "type": "choropleth"
                      }
                    ],
                    "contour": [
                      {
                        "colorbar": {
                          "outlinewidth": 0,
                          "ticks": ""
                        },
                        "colorscale": [
                          [
                            0,
                            "#0d0887"
                          ],
                          [
                            0.1111111111111111,
                            "#46039f"
                          ],
                          [
                            0.2222222222222222,
                            "#7201a8"
                          ],
                          [
                            0.3333333333333333,
                            "#9c179e"
                          ],
                          [
                            0.4444444444444444,
                            "#bd3786"
                          ],
                          [
                            0.5555555555555556,
                            "#d8576b"
                          ],
                          [
                            0.6666666666666666,
                            "#ed7953"
                          ],
                          [
                            0.7777777777777778,
                            "#fb9f3a"
                          ],
                          [
                            0.8888888888888888,
                            "#fdca26"
                          ],
                          [
                            1,
                            "#f0f921"
                          ]
                        ],
                        "type": "contour"
                      }
                    ],
                    "contourcarpet": [
                      {
                        "colorbar": {
                          "outlinewidth": 0,
                          "ticks": ""
                        },
                        "type": "contourcarpet"
                      }
                    ],
                    "heatmap": [
                      {
                        "colorbar": {
                          "outlinewidth": 0,
                          "ticks": ""
                        },
                        "colorscale": [
                          [
                            0,
                            "#0d0887"
                          ],
                          [
                            0.1111111111111111,
                            "#46039f"
                          ],
                          [
                            0.2222222222222222,
                            "#7201a8"
                          ],
                          [
                            0.3333333333333333,
                            "#9c179e"
                          ],
                          [
                            0.4444444444444444,
                            "#bd3786"
                          ],
                          [
                            0.5555555555555556,
                            "#d8576b"
                          ],
                          [
                            0.6666666666666666,
                            "#ed7953"
                          ],
                          [
                            0.7777777777777778,
                            "#fb9f3a"
                          ],
                          [
                            0.8888888888888888,
                            "#fdca26"
                          ],
                          [
                            1,
                            "#f0f921"
                          ]
                        ],
                        "type": "heatmap"
                      }
                    ],
                    "heatmapgl": [
                      {
                        "colorbar": {
                          "outlinewidth": 0,
                          "ticks": ""
                        },
                        "colorscale": [
                          [
                            0,
                            "#0d0887"
                          ],
                          [
                            0.1111111111111111,
                            "#46039f"
                          ],
                          [
                            0.2222222222222222,
                            "#7201a8"
                          ],
                          [
                            0.3333333333333333,
                            "#9c179e"
                          ],
                          [
                            0.4444444444444444,
                            "#bd3786"
                          ],
                          [
                            0.5555555555555556,
                            "#d8576b"
                          ],
                          [
                            0.6666666666666666,
                            "#ed7953"
                          ],
                          [
                            0.7777777777777778,
                            "#fb9f3a"
                          ],
                          [
                            0.8888888888888888,
                            "#fdca26"
                          ],
                          [
                            1,
                            "#f0f921"
                          ]
                        ],
                        "type": "heatmapgl"
                      }
                    ],
                    "histogram": [
                      {
                        "marker": {
                          "pattern": {
                            "fillmode": "overlay",
                            "size": 10,
                            "solidity": 0.2
                          }
                        },
                        "type": "histogram"
                      }
                    ],
                    "histogram2d": [
                      {
                        "colorbar": {
                          "outlinewidth": 0,
                          "ticks": ""
                        },
                        "colorscale": [
                          [
                            0,
                            "#0d0887"
                          ],
                          [
                            0.1111111111111111,
                            "#46039f"
                          ],
                          [
                            0.2222222222222222,
                            "#7201a8"
                          ],
                          [
                            0.3333333333333333,
                            "#9c179e"
                          ],
                          [
                            0.4444444444444444,
                            "#bd3786"
                          ],
                          [
                            0.5555555555555556,
                            "#d8576b"
                          ],
                          [
                            0.6666666666666666,
                            "#ed7953"
                          ],
                          [
                            0.7777777777777778,
                            "#fb9f3a"
                          ],
                          [
                            0.8888888888888888,
                            "#fdca26"
                          ],
                          [
                            1,
                            "#f0f921"
                          ]
                        ],
                        "type": "histogram2d"
                      }
                    ],
                    "histogram2dcontour": [
                      {
                        "colorbar": {
                          "outlinewidth": 0,
                          "ticks": ""
                        },
                        "colorscale": [
                          [
                            0,
                            "#0d0887"
                          ],
                          [
                            0.1111111111111111,
                            "#46039f"
                          ],
                          [
                            0.2222222222222222,
                            "#7201a8"
                          ],
                          [
                            0.3333333333333333,
                            "#9c179e"
                          ],
                          [
                            0.4444444444444444,
                            "#bd3786"
                          ],
                          [
                            0.5555555555555556,
                            "#d8576b"
                          ],
                          [
                            0.6666666666666666,
                            "#ed7953"
                          ],
                          [
                            0.7777777777777778,
                            "#fb9f3a"
                          ],
                          [
                            0.8888888888888888,
                            "#fdca26"
                          ],
                          [
                            1,
                            "#f0f921"
                          ]
                        ],
                        "type": "histogram2dcontour"
                      }
                    ],
                    "mesh3d": [
                      {
                        "colorbar": {
                          "outlinewidth": 0,
                          "ticks": ""
                        },
                        "type": "mesh3d"
                      }
                    ],
                    "parcoords": [
                      {
                        "line": {
                          "colorbar": {
                            "outlinewidth": 0,
                            "ticks": ""
                          }
                        },
                        "type": "parcoords"
                      }
                    ],
                    "pie": [
                      {
                        "automargin": true,
                        "type": "pie"
                      }
                    ],
                    "scatter": [
                      {
                        "marker": {
                          "line": {
                            "color": "#283442"
                          }
                        },
                        "type": "scatter"
                      }
                    ],
                    "scatter3d": [
                      {
                        "line": {
                          "colorbar": {
                            "outlinewidth": 0,
                            "ticks": ""
                          }
                        },
                        "marker": {
                          "colorbar": {
                            "outlinewidth": 0,
                            "ticks": ""
                          }
                        },
                        "type": "scatter3d"
                      }
                    ],
                    "scattercarpet": [
                      {
                        "marker": {
                          "colorbar": {
                            "outlinewidth": 0,
                            "ticks": ""
                          }
                        },
                        "type": "scattercarpet"
                      }
                    ],
                    "scattergeo": [
                      {
                        "marker": {
                          "colorbar": {
                            "outlinewidth": 0,
                            "ticks": ""
                          }
                        },
                        "type": "scattergeo"
                      }
                    ],
                    "scattergl": [
                      {
                        "marker": {
                          "line": {
                            "color": "#283442"
                          }
                        },
                        "type": "scattergl"
                      }
                    ],
                    "scattermapbox": [
                      {
                        "marker": {
                          "colorbar": {
                            "outlinewidth": 0,
                            "ticks": ""
                          }
                        },
                        "type": "scattermapbox"
                      }
                    ],
                    "scatterpolar": [
                      {
                        "marker": {
                          "colorbar": {
                            "outlinewidth": 0,
                            "ticks": ""
                          }
                        },
                        "type": "scatterpolar"
                      }
                    ],
                    "scatterpolargl": [
                      {
                        "marker": {
                          "colorbar": {
                            "outlinewidth": 0,
                            "ticks": ""
                          }
                        },
                        "type": "scatterpolargl"
                      }
                    ],
                    "scatterternary": [
                      {
                        "marker": {
                          "colorbar": {
                            "outlinewidth": 0,
                            "ticks": ""
                          }
                        },
                        "type": "scatterternary"
                      }
                    ],
                    "surface": [
                      {
                        "colorbar": {
                          "outlinewidth": 0,
                          "ticks": ""
                        },
                        "colorscale": [
                          [
                            0,
                            "#0d0887"
                          ],
                          [
                            0.1111111111111111,
                            "#46039f"
                          ],
                          [
                            0.2222222222222222,
                            "#7201a8"
                          ],
                          [
                            0.3333333333333333,
                            "#9c179e"
                          ],
                          [
                            0.4444444444444444,
                            "#bd3786"
                          ],
                          [
                            0.5555555555555556,
                            "#d8576b"
                          ],
                          [
                            0.6666666666666666,
                            "#ed7953"
                          ],
                          [
                            0.7777777777777778,
                            "#fb9f3a"
                          ],
                          [
                            0.8888888888888888,
                            "#fdca26"
                          ],
                          [
                            1,
                            "#f0f921"
                          ]
                        ],
                        "type": "surface"
                      }
                    ],
                    "table": [
                      {
                        "cells": {
                          "fill": {
                            "color": "#506784"
                          },
                          "line": {
                            "color": "rgb(17,17,17)"
                          }
                        },
                        "header": {
                          "fill": {
                            "color": "#2a3f5f"
                          },
                          "line": {
                            "color": "rgb(17,17,17)"
                          }
                        },
                        "type": "table"
                      }
                    ]
                  },
                  "layout": {
                    "annotationdefaults": {
                      "arrowcolor": "#f2f5fa",
                      "arrowhead": 0,
                      "arrowwidth": 1
                    },
                    "autotypenumbers": "strict",
                    "coloraxis": {
                      "colorbar": {
                        "outlinewidth": 0,
                        "ticks": ""
                      }
                    },
                    "colorscale": {
                      "diverging": [
                        [
                          0,
                          "#8e0152"
                        ],
                        [
                          0.1,
                          "#c51b7d"
                        ],
                        [
                          0.2,
                          "#de77ae"
                        ],
                        [
                          0.3,
                          "#f1b6da"
                        ],
                        [
                          0.4,
                          "#fde0ef"
                        ],
                        [
                          0.5,
                          "#f7f7f7"
                        ],
                        [
                          0.6,
                          "#e6f5d0"
                        ],
                        [
                          0.7,
                          "#b8e186"
                        ],
                        [
                          0.8,
                          "#7fbc41"
                        ],
                        [
                          0.9,
                          "#4d9221"
                        ],
                        [
                          1,
                          "#276419"
                        ]
                      ],
                      "sequential": [
                        [
                          0,
                          "#0d0887"
                        ],
                        [
                          0.1111111111111111,
                          "#46039f"
                        ],
                        [
                          0.2222222222222222,
                          "#7201a8"
                        ],
                        [
                          0.3333333333333333,
                          "#9c179e"
                        ],
                        [
                          0.4444444444444444,
                          "#bd3786"
                        ],
                        [
                          0.5555555555555556,
                          "#d8576b"
                        ],
                        [
                          0.6666666666666666,
                          "#ed7953"
                        ],
                        [
                          0.7777777777777778,
                          "#fb9f3a"
                        ],
                        [
                          0.8888888888888888,
                          "#fdca26"
                        ],
                        [
                          1,
                          "#f0f921"
                        ]
                      ],
                      "sequentialminus": [
                        [
                          0,
                          "#0d0887"
                        ],
                        [
                          0.1111111111111111,
                          "#46039f"
                        ],
                        [
                          0.2222222222222222,
                          "#7201a8"
                        ],
                        [
                          0.3333333333333333,
                          "#9c179e"
                        ],
                        [
                          0.4444444444444444,
                          "#bd3786"
                        ],
                        [
                          0.5555555555555556,
                          "#d8576b"
                        ],
                        [
                          0.6666666666666666,
                          "#ed7953"
                        ],
                        [
                          0.7777777777777778,
                          "#fb9f3a"
                        ],
                        [
                          0.8888888888888888,
                          "#fdca26"
                        ],
                        [
                          1,
                          "#f0f921"
                        ]
                      ]
                    },
                    "colorway": [
                      "#636efa",
                      "#EF553B",
                      "#00cc96",
                      "#ab63fa",
                      "#FFA15A",
                      "#19d3f3",
                      "#FF6692",
                      "#B6E880",
                      "#FF97FF",
                      "#FECB52"
                    ],
                    "font": {
                      "color": "#f2f5fa"
                    },
                    "geo": {
                      "bgcolor": "rgb(17,17,17)",
                      "lakecolor": "rgb(17,17,17)",
                      "landcolor": "rgb(17,17,17)",
                      "showlakes": true,
                      "showland": true,
                      "subunitcolor": "#506784"
                    },
                    "hoverlabel": {
                      "align": "left"
                    },
                    "hovermode": "closest",
                    "mapbox": {
                      "style": "dark"
                    },
                    "paper_bgcolor": "rgb(17,17,17)",
                    "plot_bgcolor": "rgb(17,17,17)",
                    "polar": {
                      "angularaxis": {
                        "gridcolor": "#506784",
                        "linecolor": "#506784",
                        "ticks": ""
                      },
                      "bgcolor": "rgb(17,17,17)",
                      "radialaxis": {
                        "gridcolor": "#506784",
                        "linecolor": "#506784",
                        "ticks": ""
                      }
                    },
                    "scene": {
                      "xaxis": {
                        "backgroundcolor": "rgb(17,17,17)",
                        "gridcolor": "#506784",
                        "gridwidth": 2,
                        "linecolor": "#506784",
                        "showbackground": true,
                        "ticks": "",
                        "zerolinecolor": "#C8D4E3"
                      },
                      "yaxis": {
                        "backgroundcolor": "rgb(17,17,17)",
                        "gridcolor": "#506784",
                        "gridwidth": 2,
                        "linecolor": "#506784",
                        "showbackground": true,
                        "ticks": "",
                        "zerolinecolor": "#C8D4E3"
                      },
                      "zaxis": {
                        "backgroundcolor": "rgb(17,17,17)",
                        "gridcolor": "#506784",
                        "gridwidth": 2,
                        "linecolor": "#506784",
                        "showbackground": true,
                        "ticks": "",
                        "zerolinecolor": "#C8D4E3"
                      }
                    },
                    "shapedefaults": {
                      "line": {
                        "color": "#f2f5fa"
                      }
                    },
                    "sliderdefaults": {
                      "bgcolor": "#C8D4E3",
                      "bordercolor": "rgb(17,17,17)",
                      "borderwidth": 1,
                      "tickwidth": 0
                    },
                    "ternary": {
                      "aaxis": {
                        "gridcolor": "#506784",
                        "linecolor": "#506784",
                        "ticks": ""
                      },
                      "baxis": {
                        "gridcolor": "#506784",
                        "linecolor": "#506784",
                        "ticks": ""
                      },
                      "bgcolor": "rgb(17,17,17)",
                      "caxis": {
                        "gridcolor": "#506784",
                        "linecolor": "#506784",
                        "ticks": ""
                      }
                    },
                    "title": {
                      "x": 0.05
                    },
                    "updatemenudefaults": {
                      "bgcolor": "#506784",
                      "borderwidth": 0
                    },
                    "xaxis": {
                      "automargin": true,
                      "gridcolor": "#283442",
                      "linecolor": "#506784",
                      "ticks": "",
                      "title": {
                        "standoff": 15
                      },
                      "zerolinecolor": "#283442",
                      "zerolinewidth": 2
                    },
                    "yaxis": {
                      "automargin": true,
                      "gridcolor": "#283442",
                      "linecolor": "#506784",
                      "ticks": "",
                      "title": {
                        "standoff": 15
                      },
                      "zerolinecolor": "#283442",
                      "zerolinewidth": 2
                    }
                  }
                },
                "title": {
                  "text": "Label Frequency"
                },
                "xaxis": {
                  "anchor": "y",
                  "domain": [
                    0,
                    1
                  ],
                  "title": {
                    "text": "Label"
                  }
                },
                "yaxis": {
                  "anchor": "x",
                  "domain": [
                    0,
                    1
                  ],
                  "title": {
                    "text": "Frequency"
                  }
                }
              }
            }
          },
          "metadata": {},
          "output_type": "display_data"
        }
      ],
      "source": [
        "import plotly.express as px\n",
        "\n",
        "# Gets the frequency of each label\n",
        "label_freq = banking_df[ \"label_name\" ].value_counts()\n",
        "\n",
        "#Plot it as an area chart\n",
        "fig = px.area( \n",
        "    x = label_freq.index, \n",
        "    y = label_freq.values, \n",
        "    title = \"Label Frequency\", \n",
        "    template=\"plotly_dark\",\n",
        ")\n",
        "\n",
        "fig.update_layout( height = 700 )\n",
        "fig.update_xaxes( title_text = \"Label\" )\n",
        "fig.update_yaxes( title_text = \"Frequency\" )\n",
        "\n",
        "#Update indv. train/test split with proper labels\n",
        "updated_train = banking_dataset[\"train\"][ : ]\n",
        "updated_test  = banking_dataset[\"test\"][ : ]\n",
        "\n",
        "#Add label name associated with each label\n",
        "updated_train[\"label_name\"] = updated_train[\"label\"].apply( add_labelname )\n",
        "updated_test[\"label_name\"]  = updated_test[\"label\"].apply( add_labelname )\n",
        "\n",
        "#Clean labels\n",
        "updated_train[\"label_name\"] = updated_train[\"label_name\"].apply( correct_label )\n",
        "updated_test[\"label_name\"]  = updated_test[\"label_name\"].apply( correct_label )\n",
        "\n",
        "#Plot it as an area chart overlapping the area chart\n",
        "fig.add_scatter(\n",
        "    x = updated_train[\"label_name\"].value_counts().index,\n",
        "    y = updated_train[\"label_name\"].value_counts().values,\n",
        "    name = \"Train\",\n",
        "    mode = \"lines\",\n",
        "    line = dict( color = \"purple\" )\n",
        ")\n",
        "\n",
        "fig.add_scatter(\n",
        "    x = updated_test[\"label_name\"].value_counts().index,\n",
        "    y = updated_test[\"label_name\"].value_counts().values,\n",
        "    name = \"Test\",\n",
        "    mode = \"lines\",\n",
        "    line = dict( color = \"green\" )\n",
        ")\n",
        "\n",
        "#Show chart\n",
        "fig.show()"
      ]
    },
    {
      "attachments": {},
      "cell_type": "markdown",
      "metadata": {
        "id": "gYbNEF1vEsXB"
      },
      "source": [
        "### Save Training, Testing, and Validation Data"
      ]
    },
    {
      "cell_type": "code",
      "execution_count": 6,
      "metadata": {},
      "outputs": [],
      "source": [
        "#Split data into train, validation and test sets\n",
        "shuffled_df = banking_df.sample( frac = 1, random_state=42 )\n",
        "\n",
        "#Split data into train, validation and test sets\n",
        "n = len( shuffled_df )\n",
        "train_size = int( TRAIN_SPLIT * n )\n",
        "val_size   = int( VAL_SPLIT   * n ) + train_size\n",
        "train, validate, test = np.split( shuffled_df, [ train_size, val_size ])\n",
        "\n",
        "# If combine, then combine train, val and test into one dataframe\n",
        "if not SPLIT:\n",
        "    banking_df.to_csv( \"data.csv\" )\n",
        "else:\n",
        "    #Save data to csv files\n",
        "    train.to_csv( \"train.csv\" ); validate.to_csv( \"val.csv\" ); test.to_csv( \"test.csv\" )"
      ]
    }
  ],
  "metadata": {
    "accelerator": "GPU",
    "colab": {
      "collapsed_sections": [
        "yKvkIMdd-waj"
      ],
      "provenance": []
    },
    "gpuClass": "standard",
    "kernelspec": {
      "display_name": "Python 3",
      "name": "python3"
    },
    "language_info": {
      "codemirror_mode": {
        "name": "ipython",
        "version": 3
      },
      "file_extension": ".py",
      "mimetype": "text/x-python",
      "name": "python",
      "nbconvert_exporter": "python",
      "pygments_lexer": "ipython3",
      "version": "3.10.10"
    },
    "widgets": {
      "application/vnd.jupyter.widget-state+json": {
        "1da87f9276c641dabb3e185f8078990c": {
          "model_module": "@jupyter-widgets/base",
          "model_module_version": "1.2.0",
          "model_name": "LayoutModel",
          "state": {
            "_model_module": "@jupyter-widgets/base",
            "_model_module_version": "1.2.0",
            "_model_name": "LayoutModel",
            "_view_count": null,
            "_view_module": "@jupyter-widgets/base",
            "_view_module_version": "1.2.0",
            "_view_name": "LayoutView",
            "align_content": null,
            "align_items": null,
            "align_self": null,
            "border": null,
            "bottom": null,
            "display": null,
            "flex": null,
            "flex_flow": null,
            "grid_area": null,
            "grid_auto_columns": null,
            "grid_auto_flow": null,
            "grid_auto_rows": null,
            "grid_column": null,
            "grid_gap": null,
            "grid_row": null,
            "grid_template_areas": null,
            "grid_template_columns": null,
            "grid_template_rows": null,
            "height": null,
            "justify_content": null,
            "justify_items": null,
            "left": null,
            "margin": null,
            "max_height": null,
            "max_width": null,
            "min_height": null,
            "min_width": null,
            "object_fit": null,
            "object_position": null,
            "order": null,
            "overflow": null,
            "overflow_x": null,
            "overflow_y": null,
            "padding": null,
            "right": null,
            "top": null,
            "visibility": null,
            "width": null
          }
        },
        "44390344c26a47b1baee80d0c0dda367": {
          "model_module": "@jupyter-widgets/controls",
          "model_module_version": "1.5.0",
          "model_name": "FloatProgressModel",
          "state": {
            "_dom_classes": [],
            "_model_module": "@jupyter-widgets/controls",
            "_model_module_version": "1.5.0",
            "_model_name": "FloatProgressModel",
            "_view_count": null,
            "_view_module": "@jupyter-widgets/controls",
            "_view_module_version": "1.5.0",
            "_view_name": "ProgressView",
            "bar_style": "success",
            "description": "",
            "description_tooltip": null,
            "layout": "IPY_MODEL_a98f15208f324dc1b89e1333c6fa4f85",
            "max": 2,
            "min": 0,
            "orientation": "horizontal",
            "style": "IPY_MODEL_912faf4d3bce42638ca7db9b311714f3",
            "value": 2
          }
        },
        "4b5d5cb4940c4f848feaf1f0db8e5d57": {
          "model_module": "@jupyter-widgets/controls",
          "model_module_version": "1.5.0",
          "model_name": "HTMLModel",
          "state": {
            "_dom_classes": [],
            "_model_module": "@jupyter-widgets/controls",
            "_model_module_version": "1.5.0",
            "_model_name": "HTMLModel",
            "_view_count": null,
            "_view_module": "@jupyter-widgets/controls",
            "_view_module_version": "1.5.0",
            "_view_name": "HTMLView",
            "description": "",
            "description_tooltip": null,
            "layout": "IPY_MODEL_c7c4bd05d3b4496f9fca35398234d8f5",
            "placeholder": "​",
            "style": "IPY_MODEL_f9ff3bfb749044578caa1b8077a4519e",
            "value": "100%"
          }
        },
        "7d44093c4e0143ec9d5d09047ac870c1": {
          "model_module": "@jupyter-widgets/controls",
          "model_module_version": "1.5.0",
          "model_name": "HBoxModel",
          "state": {
            "_dom_classes": [],
            "_model_module": "@jupyter-widgets/controls",
            "_model_module_version": "1.5.0",
            "_model_name": "HBoxModel",
            "_view_count": null,
            "_view_module": "@jupyter-widgets/controls",
            "_view_module_version": "1.5.0",
            "_view_name": "HBoxView",
            "box_style": "",
            "children": [
              "IPY_MODEL_4b5d5cb4940c4f848feaf1f0db8e5d57",
              "IPY_MODEL_44390344c26a47b1baee80d0c0dda367",
              "IPY_MODEL_9a2e5fbd933b410c92a8ee9e56124333"
            ],
            "layout": "IPY_MODEL_1da87f9276c641dabb3e185f8078990c"
          }
        },
        "912faf4d3bce42638ca7db9b311714f3": {
          "model_module": "@jupyter-widgets/controls",
          "model_module_version": "1.5.0",
          "model_name": "ProgressStyleModel",
          "state": {
            "_model_module": "@jupyter-widgets/controls",
            "_model_module_version": "1.5.0",
            "_model_name": "ProgressStyleModel",
            "_view_count": null,
            "_view_module": "@jupyter-widgets/base",
            "_view_module_version": "1.2.0",
            "_view_name": "StyleView",
            "bar_color": null,
            "description_width": ""
          }
        },
        "9a2e5fbd933b410c92a8ee9e56124333": {
          "model_module": "@jupyter-widgets/controls",
          "model_module_version": "1.5.0",
          "model_name": "HTMLModel",
          "state": {
            "_dom_classes": [],
            "_model_module": "@jupyter-widgets/controls",
            "_model_module_version": "1.5.0",
            "_model_name": "HTMLModel",
            "_view_count": null,
            "_view_module": "@jupyter-widgets/controls",
            "_view_module_version": "1.5.0",
            "_view_name": "HTMLView",
            "description": "",
            "description_tooltip": null,
            "layout": "IPY_MODEL_b6e031039de54b55beb959c01b581377",
            "placeholder": "​",
            "style": "IPY_MODEL_a3ea5d72e4d0440e86e36c25994d0180",
            "value": " 2/2 [00:00&lt;00:00, 61.33it/s]"
          }
        },
        "a3ea5d72e4d0440e86e36c25994d0180": {
          "model_module": "@jupyter-widgets/controls",
          "model_module_version": "1.5.0",
          "model_name": "DescriptionStyleModel",
          "state": {
            "_model_module": "@jupyter-widgets/controls",
            "_model_module_version": "1.5.0",
            "_model_name": "DescriptionStyleModel",
            "_view_count": null,
            "_view_module": "@jupyter-widgets/base",
            "_view_module_version": "1.2.0",
            "_view_name": "StyleView",
            "description_width": ""
          }
        },
        "a98f15208f324dc1b89e1333c6fa4f85": {
          "model_module": "@jupyter-widgets/base",
          "model_module_version": "1.2.0",
          "model_name": "LayoutModel",
          "state": {
            "_model_module": "@jupyter-widgets/base",
            "_model_module_version": "1.2.0",
            "_model_name": "LayoutModel",
            "_view_count": null,
            "_view_module": "@jupyter-widgets/base",
            "_view_module_version": "1.2.0",
            "_view_name": "LayoutView",
            "align_content": null,
            "align_items": null,
            "align_self": null,
            "border": null,
            "bottom": null,
            "display": null,
            "flex": null,
            "flex_flow": null,
            "grid_area": null,
            "grid_auto_columns": null,
            "grid_auto_flow": null,
            "grid_auto_rows": null,
            "grid_column": null,
            "grid_gap": null,
            "grid_row": null,
            "grid_template_areas": null,
            "grid_template_columns": null,
            "grid_template_rows": null,
            "height": null,
            "justify_content": null,
            "justify_items": null,
            "left": null,
            "margin": null,
            "max_height": null,
            "max_width": null,
            "min_height": null,
            "min_width": null,
            "object_fit": null,
            "object_position": null,
            "order": null,
            "overflow": null,
            "overflow_x": null,
            "overflow_y": null,
            "padding": null,
            "right": null,
            "top": null,
            "visibility": null,
            "width": null
          }
        },
        "b6e031039de54b55beb959c01b581377": {
          "model_module": "@jupyter-widgets/base",
          "model_module_version": "1.2.0",
          "model_name": "LayoutModel",
          "state": {
            "_model_module": "@jupyter-widgets/base",
            "_model_module_version": "1.2.0",
            "_model_name": "LayoutModel",
            "_view_count": null,
            "_view_module": "@jupyter-widgets/base",
            "_view_module_version": "1.2.0",
            "_view_name": "LayoutView",
            "align_content": null,
            "align_items": null,
            "align_self": null,
            "border": null,
            "bottom": null,
            "display": null,
            "flex": null,
            "flex_flow": null,
            "grid_area": null,
            "grid_auto_columns": null,
            "grid_auto_flow": null,
            "grid_auto_rows": null,
            "grid_column": null,
            "grid_gap": null,
            "grid_row": null,
            "grid_template_areas": null,
            "grid_template_columns": null,
            "grid_template_rows": null,
            "height": null,
            "justify_content": null,
            "justify_items": null,
            "left": null,
            "margin": null,
            "max_height": null,
            "max_width": null,
            "min_height": null,
            "min_width": null,
            "object_fit": null,
            "object_position": null,
            "order": null,
            "overflow": null,
            "overflow_x": null,
            "overflow_y": null,
            "padding": null,
            "right": null,
            "top": null,
            "visibility": null,
            "width": null
          }
        },
        "c7c4bd05d3b4496f9fca35398234d8f5": {
          "model_module": "@jupyter-widgets/base",
          "model_module_version": "1.2.0",
          "model_name": "LayoutModel",
          "state": {
            "_model_module": "@jupyter-widgets/base",
            "_model_module_version": "1.2.0",
            "_model_name": "LayoutModel",
            "_view_count": null,
            "_view_module": "@jupyter-widgets/base",
            "_view_module_version": "1.2.0",
            "_view_name": "LayoutView",
            "align_content": null,
            "align_items": null,
            "align_self": null,
            "border": null,
            "bottom": null,
            "display": null,
            "flex": null,
            "flex_flow": null,
            "grid_area": null,
            "grid_auto_columns": null,
            "grid_auto_flow": null,
            "grid_auto_rows": null,
            "grid_column": null,
            "grid_gap": null,
            "grid_row": null,
            "grid_template_areas": null,
            "grid_template_columns": null,
            "grid_template_rows": null,
            "height": null,
            "justify_content": null,
            "justify_items": null,
            "left": null,
            "margin": null,
            "max_height": null,
            "max_width": null,
            "min_height": null,
            "min_width": null,
            "object_fit": null,
            "object_position": null,
            "order": null,
            "overflow": null,
            "overflow_x": null,
            "overflow_y": null,
            "padding": null,
            "right": null,
            "top": null,
            "visibility": null,
            "width": null
          }
        },
        "f9ff3bfb749044578caa1b8077a4519e": {
          "model_module": "@jupyter-widgets/controls",
          "model_module_version": "1.5.0",
          "model_name": "DescriptionStyleModel",
          "state": {
            "_model_module": "@jupyter-widgets/controls",
            "_model_module_version": "1.5.0",
            "_model_name": "DescriptionStyleModel",
            "_view_count": null,
            "_view_module": "@jupyter-widgets/base",
            "_view_module_version": "1.2.0",
            "_view_name": "StyleView",
            "description_width": ""
          }
        }
      }
    }
  },
  "nbformat": 4,
  "nbformat_minor": 0
}
