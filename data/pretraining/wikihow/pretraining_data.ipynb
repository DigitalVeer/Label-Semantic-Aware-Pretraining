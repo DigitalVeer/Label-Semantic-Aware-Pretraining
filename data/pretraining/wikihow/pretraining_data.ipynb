{
  "cells": [
    {
      "attachments": {},
      "cell_type": "markdown",
      "metadata": {
        "id": "q_qQbZmH_RFA"
      },
      "source": [
        "# LSAP Data Inspection & Retrieval\n",
        "---\n",
        "This notebook contains code for retrieving the Wikihow Intents data used in our NLP project. \n"
      ]
    },
    {
      "cell_type": "markdown",
      "metadata": {
        "id": "yKvkIMdd-waj"
      },
      "source": [
        "## Install Libraries & Set Seed"
      ]
    },
    {
      "cell_type": "code",
      "execution_count": 9,
      "metadata": {
        "id": "JXz8wieWtnix"
      },
      "outputs": [],
      "source": [
        "import random, torch\n",
        "import numpy as np\n",
        "import pandas as pd\n",
        "\n",
        "def set_seed( seed ):\n",
        "    random.seed( seed )\n",
        "    np.random.seed( seed )\n",
        "    torch.manual_seed( seed )\n",
        "    if torch.cuda.is_available():\n",
        "        torch.cuda.manual_seed_all( seed )\n",
        "\n",
        "#Set seed for consistency\n",
        "set_seed(42)\n",
        "\n",
        "#Set to True to combine all data or False for \"train.csv\", \"val.csv\", \"test.csv\"\n",
        "COMBINE = True\n",
        "\n",
        "#Set train, val, and test split sizes\n",
        "TRAIN_SPLIT = 0.6\n",
        "VAL_SPLIT   = 0.2\n",
        "TEST_SPLIT  = 0.2"
      ]
    },
    {
      "cell_type": "markdown",
      "metadata": {
        "id": "9cI4dg9eDZNY"
      },
      "source": [
        "## Preprocess pre-training dataset\n",
        "\n",
        "Our pre-training dataset is a combination of the [Banking77 Dataset](https://huggingface.co/datasets/PolyAI/banking77) and [WikiHow Intents Dataset](https://github.com/zharry29/wikihow-intent) with a few tweaks. Below, we load them both in, preprocess them, and get them ready for training our model.\n",
        "\n",
        "---"
      ]
    },
    {
      "attachments": {},
      "cell_type": "markdown",
      "metadata": {
        "id": "XG5AXaSbEDFc"
      },
      "source": [
        "### Load WikiHow Intent Dataset"
      ]
    },
    {
      "cell_type": "code",
      "execution_count": 10,
      "metadata": {
        "colab": {
          "base_uri": "https://localhost:8080/"
        },
        "id": "kV6FFJgnuKTc",
        "outputId": "095c59f8-317f-44da-c6cb-6e7d9b4daa20"
      },
      "outputs": [
        {
          "name": "stderr",
          "output_type": "stream",
          "text": [
            "Downloading...\n",
            "From: https://drive.google.com/uc?id=1KaFOVZFxZoR6weLuDNmVFwRRsGTFq5tJ\n",
            "To: d:\\digit\\Documents\\UMass\\CS685\\FinalProject\\nlp-project\\data\\pretraining\\wikihow\\en_wikihow_train.csv\n",
            "\n",
            "  0%|          | 0.00/28.2M [00:00<?, ?B/s]\n",
            "  6%|▌         | 1.57M/28.2M [00:00<00:01, 15.4MB/s]\n",
            " 22%|██▏       | 6.29M/28.2M [00:00<00:00, 32.3MB/s]\n",
            " 35%|███▌      | 9.96M/28.2M [00:00<00:00, 33.6MB/s]\n",
            " 52%|█████▏    | 14.7M/28.2M [00:00<00:00, 37.5MB/s]\n",
            " 67%|██████▋   | 18.9M/28.2M [00:00<00:00, 36.4MB/s]\n",
            " 80%|███████▉  | 22.5M/28.2M [00:00<00:00, 36.3MB/s]\n",
            " 95%|█████████▍| 26.7M/28.2M [00:00<00:00, 37.6MB/s]\n",
            "100%|██████████| 28.2M/28.2M [00:00<00:00, 35.9MB/s]\n"
          ]
        }
      ],
      "source": [
        "!gdown 1KaFOVZFxZoR6weLuDNmVFwRRsGTFq5tJ"
      ]
    },
    {
      "cell_type": "markdown",
      "metadata": {
        "id": "CauLt77bEwBw"
      },
      "source": [
        "### Preprocess \n",
        "\n",
        "We want to keep both datasets in the same format to combine them later."
      ]
    },
    {
      "cell_type": "code",
      "execution_count": 11,
      "metadata": {
        "id": "PMTHau-LuMIW"
      },
      "outputs": [],
      "source": [
        "import pandas as pd\n",
        "import re\n",
        "\n",
        "def create_label_name(df):\n",
        "    \"\"\"\n",
        "    Create a column with each sentence's intent label.\n",
        "    \"\"\"\n",
        "    df[ 'label_name' ] = df.apply( lambda row: row[ f'ending{row[\"label\"]}' ] + \".\", axis=1 )\n",
        "    return df\n",
        "\n",
        "def drop_ending_columns(df):\n",
        "    \"\"\"\n",
        "    Drop the 'ending' columns from the dataframe.\n",
        "    \"\"\"\n",
        "    endings_to_drop = [ f'ending{i}' for i in range( 4 ) ]\n",
        "    df = df.drop( endings_to_drop, axis=1 )\n",
        "    return df\n",
        "\n",
        "def remove_how_to(df):\n",
        "    \"\"\"\n",
        "    Remove \"How to\" from utterances.\n",
        "    \"\"\"\n",
        "    pattern = re.compile( r'(?i)How to ' )\n",
        "    df[ 'label_name' ] = df[ 'label_name' ].apply( lambda x: re.sub( pattern, '', x ).strip() )\n",
        "    return df\n",
        "\n",
        "# Load data\n",
        "wikihow_df = pd.read_csv( 'en_wikihow_train.csv', index_col=0 )\n",
        "\n",
        "# Drop unnecessary columns\n",
        "wikihow_df = wikihow_df.drop(['startphrase', 'video-id', 'gold-source', 'fold-ind', 'sent1'], axis = 1)\n",
        "\n",
        "# Append label name to each column\n",
        "wikihow_df = create_label_name( wikihow_df )\n",
        "\n",
        "# Drop the 'ending' columns\n",
        "wikihow_df = drop_ending_columns( wikihow_df )\n",
        "\n",
        "# Remove \"How to\" from the 'label_name' column (case-insensitive)\n",
        "wikihow_df = remove_how_to( wikihow_df ).rename( columns={'sent2': 'text'} )[ ['text', 'label', 'label_name'] ]\n",
        "\n",
        "#Change label value to position i.e. 0, 1, 2, 3, 4... n (n = number of labels)\n",
        "wikihow_df[ 'label' ] = wikihow_df.index.values"
      ]
    },
    {
      "cell_type": "code",
      "execution_count": 12,
      "metadata": {
        "colab": {
          "base_uri": "https://localhost:8080/",
          "height": 363
        },
        "id": "F50JlDzg51fQ",
        "outputId": "aa0dbca0-a0e5-43ad-db28-cc200a33e0de"
      },
      "outputs": [
        {
          "data": {
            "text/html": [
              "<div>\n",
              "<style scoped>\n",
              "    .dataframe tbody tr th:only-of-type {\n",
              "        vertical-align: middle;\n",
              "    }\n",
              "\n",
              "    .dataframe tbody tr th {\n",
              "        vertical-align: top;\n",
              "    }\n",
              "\n",
              "    .dataframe thead th {\n",
              "        text-align: right;\n",
              "    }\n",
              "</style>\n",
              "<table border=\"1\" class=\"dataframe\">\n",
              "  <thead>\n",
              "    <tr style=\"text-align: right;\">\n",
              "      <th></th>\n",
              "      <th>text</th>\n",
              "      <th>label</th>\n",
              "      <th>label_name</th>\n",
              "    </tr>\n",
              "  </thead>\n",
              "  <tbody>\n",
              "    <tr>\n",
              "      <th>49071</th>\n",
              "      <td>Bring the form you received from your doctor t...</td>\n",
              "      <td>49071</td>\n",
              "      <td>Prepare for a Glucose Screening Test.</td>\n",
              "    </tr>\n",
              "    <tr>\n",
              "      <th>12212</th>\n",
              "      <td>Avoid fatty and oily snacks that can cause acn...</td>\n",
              "      <td>12212</td>\n",
              "      <td>Eat to Beat PMS.</td>\n",
              "    </tr>\n",
              "    <tr>\n",
              "      <th>55475</th>\n",
              "      <td>Fill your instant pot with 1 cup (236.5 ml) of...</td>\n",
              "      <td>55475</td>\n",
              "      <td>Boil Eggs in an Instant Pot.</td>\n",
              "    </tr>\n",
              "    <tr>\n",
              "      <th>69746</th>\n",
              "      <td>Give a deadline for paying the full amount.</td>\n",
              "      <td>69746</td>\n",
              "      <td>Negotiate a Partial Rent Payment.</td>\n",
              "    </tr>\n",
              "    <tr>\n",
              "      <th>104469</th>\n",
              "      <td>Let a friend or partner work the upper, inner ...</td>\n",
              "      <td>104469</td>\n",
              "      <td>Relieve Tension in Your Shoulders.</td>\n",
              "    </tr>\n",
              "    <tr>\n",
              "      <th>50515</th>\n",
              "      <td>Use a hug or light touch to show you feel comf...</td>\n",
              "      <td>50515</td>\n",
              "      <td>Get a Girl to Be Your Girlfriend.</td>\n",
              "    </tr>\n",
              "    <tr>\n",
              "      <th>30603</th>\n",
              "      <td>Think about the overall design of the game, ho...</td>\n",
              "      <td>30603</td>\n",
              "      <td>Appreciate Video Games.</td>\n",
              "    </tr>\n",
              "    <tr>\n",
              "      <th>81663</th>\n",
              "      <td>Understand “black tie preferred.”  If the invi...</td>\n",
              "      <td>81663</td>\n",
              "      <td>Dress for a Black Tie Event.</td>\n",
              "    </tr>\n",
              "    <tr>\n",
              "      <th>10618</th>\n",
              "      <td>Factor in your risk for future attacks when de...</td>\n",
              "      <td>10618</td>\n",
              "      <td>Get Gout Relief at Home.</td>\n",
              "    </tr>\n",
              "    <tr>\n",
              "      <th>29368</th>\n",
              "      <td>Drive the car to the mailbox corresponding wit...</td>\n",
              "      <td>29368</td>\n",
              "      <td>Play Work at a Pizza Place on Roblox.</td>\n",
              "    </tr>\n",
              "  </tbody>\n",
              "</table>\n",
              "</div>"
            ],
            "text/plain": [
              "                                                     text   label   \n",
              "49071   Bring the form you received from your doctor t...   49071  \\\n",
              "12212   Avoid fatty and oily snacks that can cause acn...   12212   \n",
              "55475   Fill your instant pot with 1 cup (236.5 ml) of...   55475   \n",
              "69746         Give a deadline for paying the full amount.   69746   \n",
              "104469  Let a friend or partner work the upper, inner ...  104469   \n",
              "50515   Use a hug or light touch to show you feel comf...   50515   \n",
              "30603   Think about the overall design of the game, ho...   30603   \n",
              "81663   Understand “black tie preferred.”  If the invi...   81663   \n",
              "10618   Factor in your risk for future attacks when de...   10618   \n",
              "29368   Drive the car to the mailbox corresponding wit...   29368   \n",
              "\n",
              "                                   label_name  \n",
              "49071   Prepare for a Glucose Screening Test.  \n",
              "12212                        Eat to Beat PMS.  \n",
              "55475            Boil Eggs in an Instant Pot.  \n",
              "69746       Negotiate a Partial Rent Payment.  \n",
              "104469     Relieve Tension in Your Shoulders.  \n",
              "50515       Get a Girl to Be Your Girlfriend.  \n",
              "30603                 Appreciate Video Games.  \n",
              "81663            Dress for a Black Tie Event.  \n",
              "10618                Get Gout Relief at Home.  \n",
              "29368   Play Work at a Pizza Place on Roblox.  "
            ]
          },
          "execution_count": 12,
          "metadata": {},
          "output_type": "execute_result"
        }
      ],
      "source": [
        "wikihow_df.sample( frac = 1 ).head( 10 )"
      ]
    },
    {
      "cell_type": "markdown",
      "metadata": {
        "id": "Nwc_tzajFsWe"
      },
      "source": [
        "### Inspection\n",
        "\n",
        "Below, we inspect our dataset to look for imbalances in labels, and to see if we need to sample our data differently. In the banking dataset, each label was associated with multiple entries. In our Wikihow Intents, however, each label is used only once."
      ]
    },
    {
      "cell_type": "code",
      "execution_count": 13,
      "metadata": {
        "colab": {
          "base_uri": "https://localhost:8080/"
        },
        "id": "NGBapaqw42oI",
        "outputId": "79ef191a-9adf-47d6-a2c4-1e5e96e95572"
      },
      "outputs": [
        {
          "data": {
            "text/plain": [
              "110573"
            ]
          },
          "execution_count": 13,
          "metadata": {},
          "output_type": "execute_result"
        }
      ],
      "source": [
        "#Count if any two articles have the same intent\n",
        "num_unique = wikihow_df['label_name'].nunique()\n",
        "num_unique"
      ]
    },
    {
      "attachments": {},
      "cell_type": "markdown",
      "metadata": {},
      "source": [
        "Below, we check the distribution of the intent labels from our WikiHow dataset. Although this should not affect the analysis itself, it is important to check for class imbalance as this can affect the performance and accuracy of any machine learning models trained on the dataset."
      ]
    },
    {
      "cell_type": "code",
      "execution_count": 14,
      "metadata": {
        "id": "exUe0DgE41da"
      },
      "outputs": [
        {
          "data": {
            "image/png": "[encoded data removed]",
            "text/plain": [
              "<Figure size 640x480 with 1 Axes>"
            ]
          },
          "metadata": {},
          "output_type": "display_data"
        }
      ],
      "source": [
        "import matplotlib.pyplot as plt\n",
        "\n",
        "# Get length of words in each label name\n",
        "label_counts = wikihow_df[ 'label_name' ].str.split().apply( len ).value_counts()\n",
        "\n",
        "label_counts.plot( kind='barh' )\n",
        "plt.title( 'Number of words in each label name' )\n",
        "plt.xlabel( 'Number of words' )\n",
        "plt.ylabel( 'Number of labels' )\n",
        "plt.show()"
      ]
    },
    {
      "cell_type": "code",
      "execution_count": 15,
      "metadata": {},
      "outputs": [],
      "source": [
        "#Split data into train, validation and test sets\n",
        "shuffled_df = wikihow_df.sample( frac = 1, random_state=42 )\n",
        "\n",
        "#Split data into train, validation and test sets\n",
        "n = len( shuffled_df )\n",
        "train_size = int( TRAIN_SPLIT * n )\n",
        "val_size   = int( VAL_SPLIT   * n ) + train_size\n",
        "train, validate, test = np.split( shuffled_df, [ train_size, val_size ])\n",
        "\n",
        "# If combine, then combine train, val and test into one dataframe\n",
        "if COMBINE:\n",
        "    wikihow_df.to_csv( \"data.csv\" )\n",
        "else:\n",
        "    #Save data to csv files\n",
        "    train.to_csv( \"train.csv\" ); validate.to_csv( \"val.csv\" ); test.to_csv( \"test.csv\" )"
      ]
    }
  ],
  "metadata": {
    "accelerator": "GPU",
    "colab": {
      "collapsed_sections": [
        "yKvkIMdd-waj"
      ],
      "provenance": []
    },
    "gpuClass": "standard",
    "kernelspec": {
      "display_name": "Python 3",
      "name": "python3"
    },
    "language_info": {
      "codemirror_mode": {
        "name": "ipython",
        "version": 3
      },
      "file_extension": ".py",
      "mimetype": "text/x-python",
      "name": "python",
      "nbconvert_exporter": "python",
      "pygments_lexer": "ipython3",
      "version": "3.10.10"
    },
    "widgets": {
      "application/vnd.jupyter.widget-state+json": {
        "1da87f9276c641dabb3e185f8078990c": {
          "model_module": "@jupyter-widgets/base",
          "model_module_version": "1.2.0",
          "model_name": "LayoutModel",
          "state": {
            "_model_module": "@jupyter-widgets/base",
            "_model_module_version": "1.2.0",
            "_model_name": "LayoutModel",
            "_view_count": null,
            "_view_module": "@jupyter-widgets/base",
            "_view_module_version": "1.2.0",
            "_view_name": "LayoutView",
            "align_content": null,
            "align_items": null,
            "align_self": null,
            "border": null,
            "bottom": null,
            "display": null,
            "flex": null,
            "flex_flow": null,
            "grid_area": null,
            "grid_auto_columns": null,
            "grid_auto_flow": null,
            "grid_auto_rows": null,
            "grid_column": null,
            "grid_gap": null,
            "grid_row": null,
            "grid_template_areas": null,
            "grid_template_columns": null,
            "grid_template_rows": null,
            "height": null,
            "justify_content": null,
            "justify_items": null,
            "left": null,
            "margin": null,
            "max_height": null,
            "max_width": null,
            "min_height": null,
            "min_width": null,
            "object_fit": null,
            "object_position": null,
            "order": null,
            "overflow": null,
            "overflow_x": null,
            "overflow_y": null,
            "padding": null,
            "right": null,
            "top": null,
            "visibility": null,
            "width": null
          }
        },
        "44390344c26a47b1baee80d0c0dda367": {
          "model_module": "@jupyter-widgets/controls",
          "model_module_version": "1.5.0",
          "model_name": "FloatProgressModel",
          "state": {
            "_dom_classes": [],
            "_model_module": "@jupyter-widgets/controls",
            "_model_module_version": "1.5.0",
            "_model_name": "FloatProgressModel",
            "_view_count": null,
            "_view_module": "@jupyter-widgets/controls",
            "_view_module_version": "1.5.0",
            "_view_name": "ProgressView",
            "bar_style": "success",
            "description": "",
            "description_tooltip": null,
            "layout": "IPY_MODEL_a98f15208f324dc1b89e1333c6fa4f85",
            "max": 2,
            "min": 0,
            "orientation": "horizontal",
            "style": "IPY_MODEL_912faf4d3bce42638ca7db9b311714f3",
            "value": 2
          }
        },
        "4b5d5cb4940c4f848feaf1f0db8e5d57": {
          "model_module": "@jupyter-widgets/controls",
          "model_module_version": "1.5.0",
          "model_name": "HTMLModel",
          "state": {
            "_dom_classes": [],
            "_model_module": "@jupyter-widgets/controls",
            "_model_module_version": "1.5.0",
            "_model_name": "HTMLModel",
            "_view_count": null,
            "_view_module": "@jupyter-widgets/controls",
            "_view_module_version": "1.5.0",
            "_view_name": "HTMLView",
            "description": "",
            "description_tooltip": null,
            "layout": "IPY_MODEL_c7c4bd05d3b4496f9fca35398234d8f5",
            "placeholder": "​",
            "style": "IPY_MODEL_f9ff3bfb749044578caa1b8077a4519e",
            "value": "100%"
          }
        },
        "7d44093c4e0143ec9d5d09047ac870c1": {
          "model_module": "@jupyter-widgets/controls",
          "model_module_version": "1.5.0",
          "model_name": "HBoxModel",
          "state": {
            "_dom_classes": [],
            "_model_module": "@jupyter-widgets/controls",
            "_model_module_version": "1.5.0",
            "_model_name": "HBoxModel",
            "_view_count": null,
            "_view_module": "@jupyter-widgets/controls",
            "_view_module_version": "1.5.0",
            "_view_name": "HBoxView",
            "box_style": "",
            "children": [
              "IPY_MODEL_4b5d5cb4940c4f848feaf1f0db8e5d57",
              "IPY_MODEL_44390344c26a47b1baee80d0c0dda367",
              "IPY_MODEL_9a2e5fbd933b410c92a8ee9e56124333"
            ],
            "layout": "IPY_MODEL_1da87f9276c641dabb3e185f8078990c"
          }
        },
        "912faf4d3bce42638ca7db9b311714f3": {
          "model_module": "@jupyter-widgets/controls",
          "model_module_version": "1.5.0",
          "model_name": "ProgressStyleModel",
          "state": {
            "_model_module": "@jupyter-widgets/controls",
            "_model_module_version": "1.5.0",
            "_model_name": "ProgressStyleModel",
            "_view_count": null,
            "_view_module": "@jupyter-widgets/base",
            "_view_module_version": "1.2.0",
            "_view_name": "StyleView",
            "bar_color": null,
            "description_width": ""
          }
        },
        "9a2e5fbd933b410c92a8ee9e56124333": {
          "model_module": "@jupyter-widgets/controls",
          "model_module_version": "1.5.0",
          "model_name": "HTMLModel",
          "state": {
            "_dom_classes": [],
            "_model_module": "@jupyter-widgets/controls",
            "_model_module_version": "1.5.0",
            "_model_name": "HTMLModel",
            "_view_count": null,
            "_view_module": "@jupyter-widgets/controls",
            "_view_module_version": "1.5.0",
            "_view_name": "HTMLView",
            "description": "",
            "description_tooltip": null,
            "layout": "IPY_MODEL_b6e031039de54b55beb959c01b581377",
            "placeholder": "​",
            "style": "IPY_MODEL_a3ea5d72e4d0440e86e36c25994d0180",
            "value": " 2/2 [00:00&lt;00:00, 61.33it/s]"
          }
        },
        "a3ea5d72e4d0440e86e36c25994d0180": {
          "model_module": "@jupyter-widgets/controls",
          "model_module_version": "1.5.0",
          "model_name": "DescriptionStyleModel",
          "state": {
            "_model_module": "@jupyter-widgets/controls",
            "_model_module_version": "1.5.0",
            "_model_name": "DescriptionStyleModel",
            "_view_count": null,
            "_view_module": "@jupyter-widgets/base",
            "_view_module_version": "1.2.0",
            "_view_name": "StyleView",
            "description_width": ""
          }
        },
        "a98f15208f324dc1b89e1333c6fa4f85": {
          "model_module": "@jupyter-widgets/base",
          "model_module_version": "1.2.0",
          "model_name": "LayoutModel",
          "state": {
            "_model_module": "@jupyter-widgets/base",
            "_model_module_version": "1.2.0",
            "_model_name": "LayoutModel",
            "_view_count": null,
            "_view_module": "@jupyter-widgets/base",
            "_view_module_version": "1.2.0",
            "_view_name": "LayoutView",
            "align_content": null,
            "align_items": null,
            "align_self": null,
            "border": null,
            "bottom": null,
            "display": null,
            "flex": null,
            "flex_flow": null,
            "grid_area": null,
            "grid_auto_columns": null,
            "grid_auto_flow": null,
            "grid_auto_rows": null,
            "grid_column": null,
            "grid_gap": null,
            "grid_row": null,
            "grid_template_areas": null,
            "grid_template_columns": null,
            "grid_template_rows": null,
            "height": null,
            "justify_content": null,
            "justify_items": null,
            "left": null,
            "margin": null,
            "max_height": null,
            "max_width": null,
            "min_height": null,
            "min_width": null,
            "object_fit": null,
            "object_position": null,
            "order": null,
            "overflow": null,
            "overflow_x": null,
            "overflow_y": null,
            "padding": null,
            "right": null,
            "top": null,
            "visibility": null,
            "width": null
          }
        },
        "b6e031039de54b55beb959c01b581377": {
          "model_module": "@jupyter-widgets/base",
          "model_module_version": "1.2.0",
          "model_name": "LayoutModel",
          "state": {
            "_model_module": "@jupyter-widgets/base",
            "_model_module_version": "1.2.0",
            "_model_name": "LayoutModel",
            "_view_count": null,
            "_view_module": "@jupyter-widgets/base",
            "_view_module_version": "1.2.0",
            "_view_name": "LayoutView",
            "align_content": null,
            "align_items": null,
            "align_self": null,
            "border": null,
            "bottom": null,
            "display": null,
            "flex": null,
            "flex_flow": null,
            "grid_area": null,
            "grid_auto_columns": null,
            "grid_auto_flow": null,
            "grid_auto_rows": null,
            "grid_column": null,
            "grid_gap": null,
            "grid_row": null,
            "grid_template_areas": null,
            "grid_template_columns": null,
            "grid_template_rows": null,
            "height": null,
            "justify_content": null,
            "justify_items": null,
            "left": null,
            "margin": null,
            "max_height": null,
            "max_width": null,
            "min_height": null,
            "min_width": null,
            "object_fit": null,
            "object_position": null,
            "order": null,
            "overflow": null,
            "overflow_x": null,
            "overflow_y": null,
            "padding": null,
            "right": null,
            "top": null,
            "visibility": null,
            "width": null
          }
        },
        "c7c4bd05d3b4496f9fca35398234d8f5": {
          "model_module": "@jupyter-widgets/base",
          "model_module_version": "1.2.0",
          "model_name": "LayoutModel",
          "state": {
            "_model_module": "@jupyter-widgets/base",
            "_model_module_version": "1.2.0",
            "_model_name": "LayoutModel",
            "_view_count": null,
            "_view_module": "@jupyter-widgets/base",
            "_view_module_version": "1.2.0",
            "_view_name": "LayoutView",
            "align_content": null,
            "align_items": null,
            "align_self": null,
            "border": null,
            "bottom": null,
            "display": null,
            "flex": null,
            "flex_flow": null,
            "grid_area": null,
            "grid_auto_columns": null,
            "grid_auto_flow": null,
            "grid_auto_rows": null,
            "grid_column": null,
            "grid_gap": null,
            "grid_row": null,
            "grid_template_areas": null,
            "grid_template_columns": null,
            "grid_template_rows": null,
            "height": null,
            "justify_content": null,
            "justify_items": null,
            "left": null,
            "margin": null,
            "max_height": null,
            "max_width": null,
            "min_height": null,
            "min_width": null,
            "object_fit": null,
            "object_position": null,
            "order": null,
            "overflow": null,
            "overflow_x": null,
            "overflow_y": null,
            "padding": null,
            "right": null,
            "top": null,
            "visibility": null,
            "width": null
          }
        },
        "f9ff3bfb749044578caa1b8077a4519e": {
          "model_module": "@jupyter-widgets/controls",
          "model_module_version": "1.5.0",
          "model_name": "DescriptionStyleModel",
          "state": {
            "_model_module": "@jupyter-widgets/controls",
            "_model_module_version": "1.5.0",
            "_model_name": "DescriptionStyleModel",
            "_view_count": null,
            "_view_module": "@jupyter-widgets/base",
            "_view_module_version": "1.2.0",
            "_view_name": "StyleView",
            "description_width": ""
          }
        }
      }
    }
  },
  "nbformat": 4,
  "nbformat_minor": 0
}
