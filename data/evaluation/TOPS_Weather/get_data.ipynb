{
 "cells": [
  {
   "cell_type": "code",
   "execution_count": 6,
   "metadata": {},
   "outputs": [
    {
     "data": {
      "text/plain": [
       "array(['GET_WEATHER', 'GET_SUNSET', 'UNSUPPORTED_WEATHER', 'GET_SUNRISE'],\n",
       "      dtype=object)"
      ]
     },
     "execution_count": 6,
     "metadata": {},
     "output_type": "execute_result"
    }
   ],
   "source": [
    "import pandas as pd\n",
    "\n",
    "#load in tsv file\n",
    "df = pd.read_csv('weather_train.tsv', sep='\\t')\n",
    "\n",
    "def extract_intent( row ):\n",
    "    #semantic parse: [IN:GET_WEATHER Whats the weather supposed to \n",
    "    #extract GET_WEATHER (after IN)\n",
    "    return row['semantic_parse'][row['semantic_parse'].find('IN:')+3:row['semantic_parse'].find(' ')]\n",
    "\n",
    "\n",
    "df[\"intent\"] = df.apply( extract_intent, axis=1 )\n",
    "\n",
    "#list of intents\n",
    "intents = df['intent'].unique()\n",
    "intents"
   ]
  },
  {
   "cell_type": "code",
   "execution_count": 8,
   "metadata": {},
   "outputs": [
    {
     "data": {
      "text/plain": [
       "array(['GET_WEATHER', 'GET_SUNSET', 'UNSUPPORTED_WEATHER', 'GET_SUNRISE'],\n",
       "      dtype=object)"
      ]
     },
     "execution_count": 8,
     "metadata": {},
     "output_type": "execute_result"
    }
   ],
   "source": [
    "testdf = pd.read_csv('weather_eval.tsv', sep='\\t')\n",
    "\n",
    "testdf[\"intent\"] = testdf.apply( extract_intent, axis=1 )\n",
    "\n",
    "#list of intents\n",
    "intents = testdf['intent'].unique()\n",
    "intents"
   ]
  },
  {
   "cell_type": "code",
   "execution_count": null,
   "metadata": {},
   "outputs": [],
   "source": []
  }
 ],
 "metadata": {
  "kernelspec": {
   "display_name": ".venv",
   "language": "python",
   "name": "python3"
  },
  "language_info": {
   "codemirror_mode": {
    "name": "ipython",
    "version": 3
   },
   "file_extension": ".py",
   "mimetype": "text/x-python",
   "name": "python",
   "nbconvert_exporter": "python",
   "pygments_lexer": "ipython3",
   "version": "3.10.10"
  },
  "orig_nbformat": 4
 },
 "nbformat": 4,
 "nbformat_minor": 2
}
