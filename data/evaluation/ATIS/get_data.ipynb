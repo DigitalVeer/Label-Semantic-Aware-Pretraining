{
 "cells": [
  {
   "cell_type": "code",
   "execution_count": 15,
   "metadata": {},
   "outputs": [
    {
     "data": {
      "text/html": [
       "<div>\n",
       "<style scoped>\n",
       "    .dataframe tbody tr th:only-of-type {\n",
       "        vertical-align: middle;\n",
       "    }\n",
       "\n",
       "    .dataframe tbody tr th {\n",
       "        vertical-align: top;\n",
       "    }\n",
       "\n",
       "    .dataframe thead th {\n",
       "        text-align: right;\n",
       "    }\n",
       "</style>\n",
       "<table border=\"1\" class=\"dataframe\">\n",
       "  <thead>\n",
       "    <tr style=\"text-align: right;\">\n",
       "      <th></th>\n",
       "      <th>utterance</th>\n",
       "      <th>slots</th>\n",
       "      <th>intent</th>\n",
       "    </tr>\n",
       "  </thead>\n",
       "  <tbody>\n",
       "    <tr>\n",
       "      <th>0</th>\n",
       "      <td>i want to fly from boston at 838 am and arrive...</td>\n",
       "      <td>O O O O O B-fromloc.city_name O B-depart_time....</td>\n",
       "      <td>flight</td>\n",
       "    </tr>\n",
       "    <tr>\n",
       "      <th>1</th>\n",
       "      <td>what flights are available from pittsburgh to ...</td>\n",
       "      <td>O O O O O B-fromloc.city_name O B-toloc.city_n...</td>\n",
       "      <td>flight</td>\n",
       "    </tr>\n",
       "    <tr>\n",
       "      <th>2</th>\n",
       "      <td>what is the arrival time in san francisco for ...</td>\n",
       "      <td>O O O B-flight_time I-flight_time O B-fromloc....</td>\n",
       "      <td>flight_time</td>\n",
       "    </tr>\n",
       "    <tr>\n",
       "      <th>3</th>\n",
       "      <td>cheapest airfare from tacoma to orlando</td>\n",
       "      <td>B-cost_relative O O B-fromloc.city_name O B-to...</td>\n",
       "      <td>airfare</td>\n",
       "    </tr>\n",
       "    <tr>\n",
       "      <th>4</th>\n",
       "      <td>round trip fares from pittsburgh to philadelph...</td>\n",
       "      <td>B-round_trip I-round_trip O O B-fromloc.city_n...</td>\n",
       "      <td>airfare</td>\n",
       "    </tr>\n",
       "  </tbody>\n",
       "</table>\n",
       "</div>"
      ],
      "text/plain": [
       "                                           utterance   \n",
       "0  i want to fly from boston at 838 am and arrive...  \\\n",
       "1  what flights are available from pittsburgh to ...   \n",
       "2  what is the arrival time in san francisco for ...   \n",
       "3            cheapest airfare from tacoma to orlando   \n",
       "4  round trip fares from pittsburgh to philadelph...   \n",
       "\n",
       "                                               slots       intent  \n",
       "0  O O O O O B-fromloc.city_name O B-depart_time....       flight  \n",
       "1  O O O O O B-fromloc.city_name O B-toloc.city_n...       flight  \n",
       "2  O O O B-flight_time I-flight_time O B-fromloc....  flight_time  \n",
       "3  B-cost_relative O O B-fromloc.city_name O B-to...      airfare  \n",
       "4  B-round_trip I-round_trip O O B-fromloc.city_n...      airfare  "
      ]
     },
     "execution_count": 15,
     "metadata": {},
     "output_type": "execute_result"
    }
   ],
   "source": [
    "import json\n",
    "import pandas as pd\n",
    "\n",
    "data = [ \"train\", \"test\" ]\n",
    "\n",
    "#Read jsons and combine to concatenated dataframe\n",
    "df = pd.concat([pd.read_json( f\"{d}.json\" ) for d in data])\n",
    "df.head()"
   ]
  },
  {
   "cell_type": "code",
   "execution_count": 16,
   "metadata": {},
   "outputs": [
    {
     "data": {
      "text/html": [
       "<div>\n",
       "<style scoped>\n",
       "    .dataframe tbody tr th:only-of-type {\n",
       "        vertical-align: middle;\n",
       "    }\n",
       "\n",
       "    .dataframe tbody tr th {\n",
       "        vertical-align: top;\n",
       "    }\n",
       "\n",
       "    .dataframe thead th {\n",
       "        text-align: right;\n",
       "    }\n",
       "</style>\n",
       "<table border=\"1\" class=\"dataframe\">\n",
       "  <thead>\n",
       "    <tr style=\"text-align: right;\">\n",
       "      <th></th>\n",
       "      <th>utterance</th>\n",
       "      <th>intent</th>\n",
       "    </tr>\n",
       "  </thead>\n",
       "  <tbody>\n",
       "    <tr>\n",
       "      <th>0</th>\n",
       "      <td>i want to fly from boston at 838 am and arrive...</td>\n",
       "      <td>Flight.</td>\n",
       "    </tr>\n",
       "    <tr>\n",
       "      <th>1</th>\n",
       "      <td>what flights are available from pittsburgh to ...</td>\n",
       "      <td>Flight.</td>\n",
       "    </tr>\n",
       "    <tr>\n",
       "      <th>2</th>\n",
       "      <td>what is the arrival time in san francisco for ...</td>\n",
       "      <td>Flight Time.</td>\n",
       "    </tr>\n",
       "    <tr>\n",
       "      <th>3</th>\n",
       "      <td>cheapest airfare from tacoma to orlando</td>\n",
       "      <td>Airfare.</td>\n",
       "    </tr>\n",
       "    <tr>\n",
       "      <th>4</th>\n",
       "      <td>round trip fares from pittsburgh to philadelph...</td>\n",
       "      <td>Airfare.</td>\n",
       "    </tr>\n",
       "  </tbody>\n",
       "</table>\n",
       "</div>"
      ],
      "text/plain": [
       "                                           utterance        intent\n",
       "0  i want to fly from boston at 838 am and arrive...       Flight.\n",
       "1  what flights are available from pittsburgh to ...       Flight.\n",
       "2  what is the arrival time in san francisco for ...  Flight Time.\n",
       "3            cheapest airfare from tacoma to orlando      Airfare.\n",
       "4  round trip fares from pittsburgh to philadelph...      Airfare."
      ]
     },
     "execution_count": 16,
     "metadata": {},
     "output_type": "execute_result"
    }
   ],
   "source": [
    "#drop 'slots'\n",
    "df.drop('slots', axis=1, inplace=True)\n",
    "\n",
    "def correct_label( row ):\n",
    "  return \" \".join( [word.capitalize() for word in row.split(\"_\")] ) + \".\"\n",
    "\n",
    "df['intent'] = df['intent'].apply( correct_label )\n",
    "\n",
    "df.head()"
   ]
  },
  {
   "cell_type": "code",
   "execution_count": 17,
   "metadata": {},
   "outputs": [],
   "source": [
    "df.to_csv( \"data.csv\" )"
   ]
  }
 ],
 "metadata": {
  "kernelspec": {
   "display_name": ".venv",
   "language": "python",
   "name": "python3"
  },
  "language_info": {
   "codemirror_mode": {
    "name": "ipython",
    "version": 3
   },
   "file_extension": ".py",
   "mimetype": "text/x-python",
   "name": "python",
   "nbconvert_exporter": "python",
   "pygments_lexer": "ipython3",
   "version": "3.10.10"
  },
  "orig_nbformat": 4
 },
 "nbformat": 4,
 "nbformat_minor": 2
}
