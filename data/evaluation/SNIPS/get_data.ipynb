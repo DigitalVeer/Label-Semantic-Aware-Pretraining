{
 "cells": [
  {
   "cell_type": "code",
   "execution_count": null,
   "metadata": {},
   "outputs": [
    {
     "data": {
      "text/plain": [
       "'1.24.3'"
      ]
     },
     "execution_count": 1,
     "metadata": {},
     "output_type": "execute_result"
    }
   ],
   "source": [
    "import random, torch\n",
    "import numpy as np\n",
    "import pandas as pd\n",
    "\n",
    "def set_seed( seed ):\n",
    "    random.seed( seed )\n",
    "    np.random.seed( seed )\n",
    "    torch.manual_seed( seed )\n",
    "    if torch.cuda.is_available():\n",
    "        torch.cuda.manual_seed_all( seed )\n",
    "\n",
    "#Set seed for consistency\n",
    "set_seed(42)\n",
    "\n",
    "#Set to True to combine all data or False for \"train.csv\", \"val.csv\", \"test.csv\"\n",
    "SPLIT = False\n",
    "\n",
    "#Set train, val, and test split sizes\n",
    "TRAIN_SPLIT = 0.6\n",
    "VAL_SPLIT   = 0.2\n",
    "TEST_SPLIT  = 0.2"
   ]
  },
  {
   "cell_type": "code",
   "execution_count": null,
   "metadata": {},
   "outputs": [],
   "source": []
  }
 ],
 "metadata": {
  "kernelspec": {
   "display_name": ".venv",
   "language": "python",
   "name": "python3"
  },
  "language_info": {
   "codemirror_mode": {
    "name": "ipython",
    "version": 3
   },
   "file_extension": ".py",
   "mimetype": "text/x-python",
   "name": "python",
   "nbconvert_exporter": "python",
   "pygments_lexer": "ipython3",
   "version": "3.10.10"
  },
  "orig_nbformat": 4
 },
 "nbformat": 4,
 "nbformat_minor": 2
}
